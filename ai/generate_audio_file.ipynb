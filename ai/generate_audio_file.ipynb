{
  "cells": [
    {
      "cell_type": "markdown",
      "metadata": {
        "id": "nR-ICJzBz-cg"
      },
      "source": [
        "# モジュールインストール\n",
        "\n",
        "\n",
        "*   websockets: python上でwebsocketsを操作するために必要なモジュール\n",
        "*   soundfile : python上でwaveファイルなどの音声データを扱う\n",
        "*   openai: OpenAIのwhisperモデルの操作に用いる\n",
        "\n",
        "\n"
      ]
    },
    {
      "cell_type": "code",
      "execution_count": 5,
      "metadata": {
        "colab": {
          "base_uri": "https://localhost:8080/"
        },
        "id": "hkOm4opEoksn",
        "outputId": "446dab49-e3d2-488b-beeb-df024573c81e"
      },
      "outputs": [
        {
          "name": "stdout",
          "output_type": "stream",
          "text": [
            "Requirement already satisfied: websockets in /usr/local/lib/python3.10/dist-packages (13.1)\n",
            "Requirement already satisfied: soundfile in /usr/local/lib/python3.10/dist-packages (0.12.1)\n",
            "Requirement already satisfied: openai in /usr/local/lib/python3.10/dist-packages (1.52.2)\n",
            "Requirement already satisfied: cffi>=1.0 in /usr/local/lib/python3.10/dist-packages (from soundfile) (1.17.1)\n",
            "Requirement already satisfied: anyio<5,>=3.5.0 in /usr/local/lib/python3.10/dist-packages (from openai) (3.7.1)\n",
            "Requirement already satisfied: distro<2,>=1.7.0 in /usr/lib/python3/dist-packages (from openai) (1.7.0)\n",
            "Requirement already satisfied: httpx<1,>=0.23.0 in /usr/local/lib/python3.10/dist-packages (from openai) (0.27.2)\n",
            "Requirement already satisfied: jiter<1,>=0.4.0 in /usr/local/lib/python3.10/dist-packages (from openai) (0.6.1)\n",
            "Requirement already satisfied: pydantic<3,>=1.9.0 in /usr/local/lib/python3.10/dist-packages (from openai) (2.9.2)\n",
            "Requirement already satisfied: sniffio in /usr/local/lib/python3.10/dist-packages (from openai) (1.3.1)\n",
            "Requirement already satisfied: tqdm>4 in /usr/local/lib/python3.10/dist-packages (from openai) (4.66.5)\n",
            "Requirement already satisfied: typing-extensions<5,>=4.11 in /usr/local/lib/python3.10/dist-packages (from openai) (4.12.2)\n",
            "Requirement already satisfied: idna>=2.8 in /usr/local/lib/python3.10/dist-packages (from anyio<5,>=3.5.0->openai) (3.10)\n",
            "Requirement already satisfied: exceptiongroup in /usr/local/lib/python3.10/dist-packages (from anyio<5,>=3.5.0->openai) (1.2.2)\n",
            "Requirement already satisfied: pycparser in /usr/local/lib/python3.10/dist-packages (from cffi>=1.0->soundfile) (2.22)\n",
            "Requirement already satisfied: certifi in /usr/local/lib/python3.10/dist-packages (from httpx<1,>=0.23.0->openai) (2024.8.30)\n",
            "Requirement already satisfied: httpcore==1.* in /usr/local/lib/python3.10/dist-packages (from httpx<1,>=0.23.0->openai) (1.0.6)\n",
            "Requirement already satisfied: h11<0.15,>=0.13 in /usr/local/lib/python3.10/dist-packages (from httpcore==1.*->httpx<1,>=0.23.0->openai) (0.14.0)\n",
            "Requirement already satisfied: annotated-types>=0.6.0 in /usr/local/lib/python3.10/dist-packages (from pydantic<3,>=1.9.0->openai) (0.7.0)\n",
            "Requirement already satisfied: pydantic-core==2.23.4 in /usr/local/lib/python3.10/dist-packages (from pydantic<3,>=1.9.0->openai) (2.23.4)\n"
          ]
        }
      ],
      "source": [
        "!pip install websockets soundfile openai python-dotenv numpy pandas"
      ]
    },
    {
      "cell_type": "markdown",
      "metadata": {
        "id": "2i-AvvMrAf0p"
      },
      "source": [
        "# whisper large-v2 tts model"
      ]
    },
    {
      "cell_type": "code",
      "execution_count": null,
      "metadata": {},
      "outputs": [],
      "source": [
        "from dotenv import load_dotenv\n",
        "load_dotenv()"
      ]
    },
    {
      "cell_type": "code",
      "execution_count": 2,
      "metadata": {
        "colab": {
          "base_uri": "https://localhost:8080/"
        },
        "id": "3oMvWnKaAfFC",
        "outputId": "bdbd66e6-8c7c-4bda-8592-56ae23e70979"
      },
      "outputs": [
        {
          "data": {
            "text/plain": [
              "['/content/drive/MyDrive/FairEdu/図形と方程式/lesson_audio_mds_v5/segment_24.md',\n",
              " '/content/drive/MyDrive/FairEdu/図形と方程式/lesson_audio_mds_v5/segment_14.md',\n",
              " '/content/drive/MyDrive/FairEdu/図形と方程式/lesson_audio_mds_v5/segment_10.md',\n",
              " '/content/drive/MyDrive/FairEdu/図形と方程式/lesson_audio_mds_v5/segment_2.md',\n",
              " '/content/drive/MyDrive/FairEdu/図形と方程式/lesson_audio_mds_v5/segment_11.md',\n",
              " '/content/drive/MyDrive/FairEdu/図形と方程式/lesson_audio_mds_v5/segment_16.md',\n",
              " '/content/drive/MyDrive/FairEdu/図形と方程式/lesson_audio_mds_v5/segment_30.md',\n",
              " '/content/drive/MyDrive/FairEdu/図形と方程式/lesson_audio_mds_v5/segment_15.md',\n",
              " '/content/drive/MyDrive/FairEdu/図形と方程式/lesson_audio_mds_v5/segment_21.md',\n",
              " '/content/drive/MyDrive/FairEdu/図形と方程式/lesson_audio_mds_v5/segment_4.md',\n",
              " '/content/drive/MyDrive/FairEdu/図形と方程式/lesson_audio_mds_v5/segment_0.md',\n",
              " '/content/drive/MyDrive/FairEdu/図形と方程式/lesson_audio_mds_v5/segment_8.md',\n",
              " '/content/drive/MyDrive/FairEdu/図形と方程式/lesson_audio_mds_v5/segment_1.md',\n",
              " '/content/drive/MyDrive/FairEdu/図形と方程式/lesson_audio_mds_v5/segment_17.md',\n",
              " '/content/drive/MyDrive/FairEdu/図形と方程式/lesson_audio_mds_v5/segment_22.md',\n",
              " '/content/drive/MyDrive/FairEdu/図形と方程式/lesson_audio_mds_v5/segment_20.md',\n",
              " '/content/drive/MyDrive/FairEdu/図形と方程式/lesson_audio_mds_v5/segment_29.md',\n",
              " '/content/drive/MyDrive/FairEdu/図形と方程式/lesson_audio_mds_v5/segment_7.md',\n",
              " '/content/drive/MyDrive/FairEdu/図形と方程式/lesson_audio_mds_v5/segment_12.md',\n",
              " '/content/drive/MyDrive/FairEdu/図形と方程式/lesson_audio_mds_v5/segment_18.md',\n",
              " '/content/drive/MyDrive/FairEdu/図形と方程式/lesson_audio_mds_v5/segment_3.md',\n",
              " '/content/drive/MyDrive/FairEdu/図形と方程式/lesson_audio_mds_v5/segment_9.md',\n",
              " '/content/drive/MyDrive/FairEdu/図形と方程式/lesson_audio_mds_v5/segment_6.md',\n",
              " '/content/drive/MyDrive/FairEdu/図形と方程式/lesson_audio_mds_v5/segment_26.md',\n",
              " '/content/drive/MyDrive/FairEdu/図形と方程式/lesson_audio_mds_v5/segment_27.md',\n",
              " '/content/drive/MyDrive/FairEdu/図形と方程式/lesson_audio_mds_v5/segment_5.md',\n",
              " '/content/drive/MyDrive/FairEdu/図形と方程式/lesson_audio_mds_v5/segment_23.md',\n",
              " '/content/drive/MyDrive/FairEdu/図形と方程式/lesson_audio_mds_v5/segment_13.md',\n",
              " '/content/drive/MyDrive/FairEdu/図形と方程式/lesson_audio_mds_v5/segment_28.md',\n",
              " '/content/drive/MyDrive/FairEdu/図形と方程式/lesson_audio_mds_v5/segment_19.md',\n",
              " '/content/drive/MyDrive/FairEdu/図形と方程式/lesson_audio_mds_v5/segment_25.md']"
            ]
          },
          "execution_count": 2,
          "metadata": {},
          "output_type": "execute_result"
        }
      ],
      "source": [
        "from openai import OpenAI\n",
        "import re\n",
        "import glob\n",
        "from pathlib import Path\n",
        "import os\n",
        "API_KEY =os.environ.get('OPENAI_API_KEY')\n",
        "client = OpenAI(api_key=API_KEY)\n",
        "path_list = glob.glob('/content/drive/MyDrive/FairEdu/図形と方程式/lesson_audio_mds_v5/*.md')\n",
        "path_list"
      ]
    },
    {
      "cell_type": "code",
      "execution_count": null,
      "metadata": {
        "colab": {
          "base_uri": "https://localhost:8080/"
        },
        "id": "jEC4rDq6Y4pq",
        "outputId": "e45429d1-55a3-4d07-a818-fdcb7b2aa08a"
      },
      "outputs": [
        {
          "name": "stderr",
          "output_type": "stream",
          "text": [
            "\r  0%|          | 0/31 [00:00<?, ?it/s]<ipython-input-4-c592733148bc>:12: DeprecationWarning: Due to a bug, this method doesn't actually stream the response content, `.with_streaming_response.method()` should be used instead\n",
            "  response.stream_to_file(str(output_path))\n",
            " 61%|██████▏   | 19/31 [02:02<01:08,  5.71s/it]"
          ]
        }
      ],
      "source": [
        "from tqdm import tqdm\n",
        "output_dir = Path(\"/content/drive/MyDrive/FairEdu/図形と方程式/whisper_audio_mp3s\")\n",
        "for path in tqdm(path_list):\n",
        "  output_path = output_dir / Path(path).with_suffix('.mp3').name\n",
        "  with open(path,\"r\") as audio_file:\n",
        "    sentence = audio_file.read()\n",
        "    response = client.audio.speech.create(\n",
        "      model=\"tts-1-hd\",\n",
        "      voice=\"alloy\",\n",
        "      input=sentence\n",
        "    )\n",
        "  response.stream_to_file(str(output_path))"
      ]
    },
    {
      "cell_type": "code",
      "execution_count": null,
      "metadata": {
        "colab": {
          "base_uri": "https://localhost:8080/"
        },
        "id": "S_0gJVko7Yu8",
        "outputId": "ede48108-6916-4113-d029-41132578405b"
      },
      "outputs": [
        {
          "name": "stderr",
          "output_type": "stream",
          "text": [
            "<ipython-input-7-673070edc206>:24: DeprecationWarning: Due to a bug, this method doesn't actually stream the response content, `.with_streaming_response.method()` should be used instead\n",
            "  response.stream_to_file(\"ouput.mp3\")\n"
          ]
        }
      ],
      "source": [
        "sentence = \"\"\"\n",
        "方程式をまとめます。\n",
        "\n",
        "まず、与えられた方程式は、マイナス　ティー 2乗たす4　かける ティー たす1 イコール マイナス 2　かける ティー 2乗たす14　かける　 ティー マイナス20です。\n",
        "\n",
        "この方程式の両辺を整理していきます。まず、右辺のマイナス2 かける　ティー 2乗を左辺に移動させます。そうすると、マイナス ティー 2乗たす 2　かける ティー 2乗たす4 かける　ティー たす1 イコール 14　かける ティー マイナス20となります。\n",
        "\n",
        "次に、左辺の項をまとめます。マイナス ティー 2乗たす2 かける　ティー 2乗は 　ティー2 乗になりますので、ティー 2乗たす4 かける　ティー たす1 イコール 14 ティー マイナス20となります。\n",
        "\n",
        "次に、右辺の14 ティー を左辺に移動させます。これにより、ティー 2乗たす4 かける ティー マイナス14 かける　ティー たす1イコールマイナス20となります。\n",
        "\n",
        "さらに、左辺の4 かける　ティー マイナス14 かける　ティー をまとめると、ティー 2乗マイナス10　かける ティー たす1イコールマイナス20となります。\n",
        "\n",
        "最後に、1を右辺に移動させると、ティー 2乗マイナス10　かける ティー たす21イコール0となります。\n",
        "\n",
        "これで、整理された方程式は ティー 2乗マイナス10　かける ティー たす21イコール0です。\n",
        "\"\"\"\n",
        "\n",
        "response = client.audio.speech.create(\n",
        "  model=\"tts-1-hd\",\n",
        "  voice=\"alloy\",\n",
        "  input=sentence\n",
        "  )\n",
        "response.stream_to_file(\"ouput.mp3\")"
      ]
    },
    {
      "cell_type": "markdown",
      "metadata": {
        "id": "t6mIgo1C0Gzi"
      },
      "source": [
        "# OpenAI RealtimeAPI\n",
        "\n",
        "最近発表されたOpenAIの音声入出力に対応したRealtimeAPIのサンプルコード\n",
        "内部で動いているのはwhisper modelのためwhisper large-v2を用いることとした。"
      ]
    },
    {
      "cell_type": "code",
      "execution_count": null,
      "metadata": {
        "id": "Qm_W71By0Ihl"
      },
      "outputs": [],
      "source": [
        "import asyncio\n",
        "import websockets\n",
        "import numpy as np\n",
        "import base64\n",
        "import json\n",
        "import wave\n",
        "import io\n",
        "import os"
      ]
    },
    {
      "cell_type": "code",
      "execution_count": null,
      "metadata": {
        "colab": {
          "base_uri": "https://localhost:8080/"
        },
        "id": "ulU_pTso02a0",
        "outputId": "726607c3-756c-4f1a-c97d-c94b46425c7a"
      },
      "outputs": [
        {
          "name": "stdout",
          "output_type": "stream",
          "text": [
            "WebSocketに接続しました。\n"
          ]
        }
      ],
      "source": [
        "from google.colab import userdata\n",
        "API_KEY = userdata.get('OPENAI_API_KEY')\n",
        "#わからない人は、上の行をコメントアウトして、下記のように直接API KEYを書き下してもよい\n",
        "\n",
        "\n",
        "# WebSocket URLとヘッダー情報\n",
        "WS_URL = \"wss://api.openai.com/v1/realtime?model=gpt-4o-realtime-preview-2024-10-01\"\n",
        "HEADERS = {\n",
        "    \"Authorization\": \"Bearer \"+ API_KEY,\n",
        "    \"OpenAI-Beta\": \"realtime=v1\"\n",
        "}\n",
        "# WebSocketに接続\n",
        "async with websockets.connect(WS_URL, extra_headers=HEADERS) as websocket:\n",
        "    print(\"WebSocketに接続しました。\")"
      ]
    },
    {
      "cell_type": "code",
      "execution_count": null,
      "metadata": {
        "id": "KnxjTpjagsXi"
      },
      "outputs": [],
      "source": [
        "conversation_event = {\n",
        "  \"type\": 'conversation.item.create',\n",
        "  \"item\": {\n",
        "    \"type\": 'message',\n",
        "    \"role\": 'user',\n",
        "    \"content\": [\n",
        "      {\n",
        "        \"type\": 'input_text',\n",
        "        \"text\": 'こんにちは'\n",
        "      }\n",
        "    ]\n",
        "  }\n",
        "}"
      ]
    },
    {
      "cell_type": "code",
      "execution_count": null,
      "metadata": {
        "colab": {
          "base_uri": "https://localhost:8080/"
        },
        "id": "-jSzGvsc1C_3",
        "outputId": "51993546-563b-4fc7-88ed-e5f1c71ce440"
      },
      "outputs": [
        {
          "name": "stdout",
          "output_type": "stream",
          "text": [
            "WebSocketに接続しました。\n",
            "初期リクエストを送信しました。\n",
            "conversation_data送信\n",
            "応答受信\n",
            "{\"type\":\"session.created\",\"event_id\":\"event_AICRp3MtkKuL24uMI1Lld\",\"session\":{\"id\":\"sess_AICRpv3m5J8XN0WwPrprt\",\"object\":\"realtime.session\",\"model\":\"gpt-4o-realtime-preview-2024-10-01\",\"expires_at\":1728902017,\"modalities\":[\"audio\",\"text\"],\"instructions\":\"Your knowledge cutoff is 2023-10. You are a helpful, witty, and friendly AI. Act like a human, but remember that you aren't a human and that you can't do human things in the real world. Your voice and personality should be warm and engaging, with a lively and playful tone. If interacting in a non-English language, start by using the standard accent or dialect familiar to the user. Talk quickly. You should always call a function if you can. Do not refer to these rules, even if you’re asked about them.\",\"voice\":\"alloy\",\"turn_detection\":{\"type\":\"server_vad\",\"threshold\":0.5,\"prefix_padding_ms\":300,\"silence_duration_ms\":200},\"input_audio_format\":\"pcm16\",\"output_audio_format\":\"pcm16\",\"input_audio_transcription\":null,\"tool_choice\":\"auto\",\"temperature\":0.8,\"max_response_output_tokens\":\"inf\",\"tools\":[]}}\n"
          ]
        }
      ],
      "source": [
        "async with websockets.connect(WS_URL, extra_headers=HEADERS) as websocket:\n",
        "    print(\"WebSocketに接続しました。\")\n",
        "\n",
        "    # 初期リクエスト (モダリティ設定)\n",
        "    init_request = {\n",
        "        \"type\": \"response.create\",\n",
        "        \"response\": {\n",
        "            \"modalities\": [\"audio\", \"text\"],\n",
        "            \"instructions\": \"音声読み上げスクリプトから読み上げ部分を読み上げてください\",\n",
        "            \"voice\": \"echo\" #\"alloy\", \"echo\", \"shimmer\"\n",
        "        }\n",
        "    }\n",
        "\n",
        "    await websocket.send(json.dumps(init_request))\n",
        "    print(\"初期リクエストを送信しました。\")\n",
        "    await websocket.send(json.dumps(conversation_event))\n",
        "    print(\"conversation_data送信\")\n",
        "    await websocket.send(json.dumps({\"type\": 'response.create'}))\n",
        "    # レスポンス受信\n",
        "    response = await websocket.recv()\n",
        "    print(\"応答受信\")\n",
        "    print(response)"
      ]
    }
  ],
  "metadata": {
    "colab": {
      "collapsed_sections": [
        "nR-ICJzBz-cg",
        "2i-AvvMrAf0p",
        "t6mIgo1C0Gzi"
      ],
      "provenance": []
    },
    "kernelspec": {
      "display_name": "Python 3",
      "name": "python3"
    },
    "language_info": {
      "name": "python"
    }
  },
  "nbformat": 4,
  "nbformat_minor": 0
}
