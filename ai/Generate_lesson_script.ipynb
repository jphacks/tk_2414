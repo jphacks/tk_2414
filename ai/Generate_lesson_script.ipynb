{
  "cells": [
    {
      "cell_type": "markdown",
      "metadata": {
        "id": "WQm-uFGWdGKN"
      },
      "source": [
        "# モジュール一覧\n",
        "\n",
        "\n",
        "*   langchain openai:   Langchain上でOpenAIモデルを操作する.  \n",
        "*   langchain_community:  Langchainの拡張機能\n",
        "*   wikipedia: wikipediaのAPI\n",
        "*   langgraph : Langchainでの条件分岐や複雑な処理を実装する\n",
        "*   langchain_experimental: Langchainでより先進的な拡張機能の提供\n",
        "*   langsmith : Langchainでのtoolcallingや動作を監視する\n",
        "*   anggraph-checkpoint-sqlite: Langchain上でのログ機能\n",
        "*   japanize-matplotlib : matplotlibの日本語適用\n",
        "*   pyttsx3: pythonでの音声出入力\n",
        "\n",
        "\n",
        "\n",
        "\n",
        "\n"
      ]
    },
    {
      "cell_type": "code",
      "execution_count": null,
      "metadata": {
        "colab": {
          "base_uri": "https://localhost:8080/"
        },
        "id": "U8TDWYogGd6Y",
        "outputId": "e46c92f0-6866-42fc-e028-aa1bc74c077a"
      },
      "outputs": [
        {
          "name": "stdout",
          "output_type": "stream",
          "text": [
            "Collecting langchain\n",
            "  Downloading langchain-0.3.4-py3-none-any.whl.metadata (7.1 kB)\n",
            "Collecting openai\n",
            "  Downloading openai-1.52.2-py3-none-any.whl.metadata (24 kB)\n",
            "Collecting langchain_community\n",
            "  Downloading langchain_community-0.3.3-py3-none-any.whl.metadata (2.8 kB)\n",
            "Collecting langchain_openai\n",
            "  Downloading langchain_openai-0.2.3-py3-none-any.whl.metadata (2.6 kB)\n",
            "Collecting wikipedia\n",
            "  Downloading wikipedia-1.4.0.tar.gz (27 kB)\n",
            "  Preparing metadata (setup.py) ... \u001b[?25l\u001b[?25hdone\n",
            "Collecting langgraph\n",
            "  Downloading langgraph-0.2.39-py3-none-any.whl.metadata (13 kB)\n",
            "Collecting langchain_experimental\n",
            "  Downloading langchain_experimental-0.3.2-py3-none-any.whl.metadata (1.7 kB)\n",
            "Collecting langsmith\n",
            "  Downloading langsmith-0.1.137-py3-none-any.whl.metadata (13 kB)\n",
            "Collecting langgraph-checkpoint-sqlite\n",
            "  Downloading langgraph_checkpoint_sqlite-2.0.1-py3-none-any.whl.metadata (3.0 kB)\n",
            "Requirement already satisfied: pandas in /usr/local/lib/python3.10/dist-packages (2.2.2)\n",
            "Collecting japanize-matplotlib\n",
            "  Downloading japanize-matplotlib-1.1.3.tar.gz (4.1 MB)\n",
            "\u001b[2K     \u001b[90m━━━━━━━━━━━━━━━━━━━━━━━━━━━━━━━━━━━━━━━━\u001b[0m \u001b[32m4.1/4.1 MB\u001b[0m \u001b[31m18.2 MB/s\u001b[0m eta \u001b[36m0:00:00\u001b[0m\n",
            "\u001b[?25h  Preparing metadata (setup.py) ... \u001b[?25l\u001b[?25hdone\n",
            "Collecting pyttsx3\n",
            "  Downloading pyttsx3-2.98-py3-none-any.whl.metadata (3.8 kB)\n",
            "Requirement already satisfied: PyYAML>=5.3 in /usr/local/lib/python3.10/dist-packages (from langchain) (6.0.2)\n",
            "Requirement already satisfied: SQLAlchemy<3,>=1.4 in /usr/local/lib/python3.10/dist-packages (from langchain) (2.0.36)\n",
            "Requirement already satisfied: aiohttp<4.0.0,>=3.8.3 in /usr/local/lib/python3.10/dist-packages (from langchain) (3.10.10)\n",
            "Requirement already satisfied: async-timeout<5.0.0,>=4.0.0 in /usr/local/lib/python3.10/dist-packages (from langchain) (4.0.3)\n",
            "Collecting langchain-core<0.4.0,>=0.3.12 (from langchain)\n",
            "  Downloading langchain_core-0.3.13-py3-none-any.whl.metadata (6.3 kB)\n",
            "Collecting langchain-text-splitters<0.4.0,>=0.3.0 (from langchain)\n",
            "  Downloading langchain_text_splitters-0.3.0-py3-none-any.whl.metadata (2.3 kB)\n",
            "Requirement already satisfied: numpy<2,>=1 in /usr/local/lib/python3.10/dist-packages (from langchain) (1.26.4)\n",
            "Requirement already satisfied: pydantic<3.0.0,>=2.7.4 in /usr/local/lib/python3.10/dist-packages (from langchain) (2.9.2)\n",
            "Requirement already satisfied: requests<3,>=2 in /usr/local/lib/python3.10/dist-packages (from langchain) (2.32.3)\n",
            "Requirement already satisfied: tenacity!=8.4.0,<10,>=8.1.0 in /usr/local/lib/python3.10/dist-packages (from langchain) (9.0.0)\n",
            "Requirement already satisfied: anyio<5,>=3.5.0 in /usr/local/lib/python3.10/dist-packages (from openai) (3.7.1)\n",
            "Requirement already satisfied: distro<2,>=1.7.0 in /usr/lib/python3/dist-packages (from openai) (1.7.0)\n",
            "Collecting httpx<1,>=0.23.0 (from openai)\n",
            "  Downloading httpx-0.27.2-py3-none-any.whl.metadata (7.1 kB)\n",
            "Collecting jiter<1,>=0.4.0 (from openai)\n",
            "  Downloading jiter-0.6.1-cp310-cp310-manylinux_2_17_x86_64.manylinux2014_x86_64.whl.metadata (5.2 kB)\n",
            "Requirement already satisfied: sniffio in /usr/local/lib/python3.10/dist-packages (from openai) (1.3.1)\n",
            "Requirement already satisfied: tqdm>4 in /usr/local/lib/python3.10/dist-packages (from openai) (4.66.5)\n",
            "Requirement already satisfied: typing-extensions<5,>=4.11 in /usr/local/lib/python3.10/dist-packages (from openai) (4.12.2)\n",
            "Collecting dataclasses-json<0.7,>=0.5.7 (from langchain_community)\n",
            "  Downloading dataclasses_json-0.6.7-py3-none-any.whl.metadata (25 kB)\n",
            "Collecting pydantic-settings<3.0.0,>=2.4.0 (from langchain_community)\n",
            "  Downloading pydantic_settings-2.6.0-py3-none-any.whl.metadata (3.5 kB)\n",
            "Collecting tiktoken<1,>=0.7 (from langchain_openai)\n",
            "  Downloading tiktoken-0.8.0-cp310-cp310-manylinux_2_17_x86_64.manylinux2014_x86_64.whl.metadata (6.6 kB)\n",
            "Requirement already satisfied: beautifulsoup4 in /usr/local/lib/python3.10/dist-packages (from wikipedia) (4.12.3)\n",
            "Collecting langgraph-checkpoint<3.0.0,>=2.0.0 (from langgraph)\n",
            "  Downloading langgraph_checkpoint-2.0.2-py3-none-any.whl.metadata (4.6 kB)\n",
            "Collecting langgraph-sdk<0.2.0,>=0.1.32 (from langgraph)\n",
            "  Downloading langgraph_sdk-0.1.34-py3-none-any.whl.metadata (1.8 kB)\n",
            "Collecting orjson<4.0.0,>=3.9.14 (from langsmith)\n",
            "  Downloading orjson-3.10.10-cp310-cp310-manylinux_2_17_x86_64.manylinux2014_x86_64.whl.metadata (50 kB)\n",
            "\u001b[2K     \u001b[90m━━━━━━━━━━━━━━━━━━━━━━━━━━━━━━━━━━━━━━━━\u001b[0m \u001b[32m50.6/50.6 kB\u001b[0m \u001b[31m1.3 MB/s\u001b[0m eta \u001b[36m0:00:00\u001b[0m\n",
            "\u001b[?25hCollecting requests-toolbelt<2.0.0,>=1.0.0 (from langsmith)\n",
            "  Downloading requests_toolbelt-1.0.0-py2.py3-none-any.whl.metadata (14 kB)\n",
            "Collecting aiosqlite<0.21.0,>=0.20.0 (from langgraph-checkpoint-sqlite)\n",
            "  Downloading aiosqlite-0.20.0-py3-none-any.whl.metadata (4.3 kB)\n",
            "Requirement already satisfied: python-dateutil>=2.8.2 in /usr/local/lib/python3.10/dist-packages (from pandas) (2.8.2)\n",
            "Requirement already satisfied: pytz>=2020.1 in /usr/local/lib/python3.10/dist-packages (from pandas) (2024.2)\n",
            "Requirement already satisfied: tzdata>=2022.7 in /usr/local/lib/python3.10/dist-packages (from pandas) (2024.2)\n",
            "Requirement already satisfied: matplotlib in /usr/local/lib/python3.10/dist-packages (from japanize-matplotlib) (3.7.1)\n",
            "Requirement already satisfied: aiohappyeyeballs>=2.3.0 in /usr/local/lib/python3.10/dist-packages (from aiohttp<4.0.0,>=3.8.3->langchain) (2.4.3)\n",
            "Requirement already satisfied: aiosignal>=1.1.2 in /usr/local/lib/python3.10/dist-packages (from aiohttp<4.0.0,>=3.8.3->langchain) (1.3.1)\n",
            "Requirement already satisfied: attrs>=17.3.0 in /usr/local/lib/python3.10/dist-packages (from aiohttp<4.0.0,>=3.8.3->langchain) (24.2.0)\n",
            "Requirement already satisfied: frozenlist>=1.1.1 in /usr/local/lib/python3.10/dist-packages (from aiohttp<4.0.0,>=3.8.3->langchain) (1.4.1)\n",
            "Requirement already satisfied: multidict<7.0,>=4.5 in /usr/local/lib/python3.10/dist-packages (from aiohttp<4.0.0,>=3.8.3->langchain) (6.1.0)\n",
            "Requirement already satisfied: yarl<2.0,>=1.12.0 in /usr/local/lib/python3.10/dist-packages (from aiohttp<4.0.0,>=3.8.3->langchain) (1.16.0)\n",
            "Requirement already satisfied: idna>=2.8 in /usr/local/lib/python3.10/dist-packages (from anyio<5,>=3.5.0->openai) (3.10)\n",
            "Requirement already satisfied: exceptiongroup in /usr/local/lib/python3.10/dist-packages (from anyio<5,>=3.5.0->openai) (1.2.2)\n",
            "Collecting marshmallow<4.0.0,>=3.18.0 (from dataclasses-json<0.7,>=0.5.7->langchain_community)\n",
            "  Downloading marshmallow-3.23.0-py3-none-any.whl.metadata (7.6 kB)\n",
            "Collecting typing-inspect<1,>=0.4.0 (from dataclasses-json<0.7,>=0.5.7->langchain_community)\n",
            "  Downloading typing_inspect-0.9.0-py3-none-any.whl.metadata (1.5 kB)\n",
            "Requirement already satisfied: certifi in /usr/local/lib/python3.10/dist-packages (from httpx<1,>=0.23.0->openai) (2024.8.30)\n",
            "Collecting httpcore==1.* (from httpx<1,>=0.23.0->openai)\n",
            "  Downloading httpcore-1.0.6-py3-none-any.whl.metadata (21 kB)\n",
            "Collecting h11<0.15,>=0.13 (from httpcore==1.*->httpx<1,>=0.23.0->openai)\n",
            "  Downloading h11-0.14.0-py3-none-any.whl.metadata (8.2 kB)\n",
            "Collecting jsonpatch<2.0,>=1.33 (from langchain-core<0.4.0,>=0.3.12->langchain)\n",
            "  Downloading jsonpatch-1.33-py2.py3-none-any.whl.metadata (3.0 kB)\n",
            "Requirement already satisfied: packaging<25,>=23.2 in /usr/local/lib/python3.10/dist-packages (from langchain-core<0.4.0,>=0.3.12->langchain) (24.1)\n",
            "Requirement already satisfied: msgpack<2.0.0,>=1.1.0 in /usr/local/lib/python3.10/dist-packages (from langgraph-checkpoint<3.0.0,>=2.0.0->langgraph) (1.1.0)\n",
            "Collecting httpx-sse>=0.4.0 (from langgraph-sdk<0.2.0,>=0.1.32->langgraph)\n",
            "  Downloading httpx_sse-0.4.0-py3-none-any.whl.metadata (9.0 kB)\n",
            "Requirement already satisfied: annotated-types>=0.6.0 in /usr/local/lib/python3.10/dist-packages (from pydantic<3.0.0,>=2.7.4->langchain) (0.7.0)\n",
            "Requirement already satisfied: pydantic-core==2.23.4 in /usr/local/lib/python3.10/dist-packages (from pydantic<3.0.0,>=2.7.4->langchain) (2.23.4)\n",
            "Collecting python-dotenv>=0.21.0 (from pydantic-settings<3.0.0,>=2.4.0->langchain_community)\n",
            "  Downloading python_dotenv-1.0.1-py3-none-any.whl.metadata (23 kB)\n",
            "Requirement already satisfied: six>=1.5 in /usr/local/lib/python3.10/dist-packages (from python-dateutil>=2.8.2->pandas) (1.16.0)\n",
            "Requirement already satisfied: charset-normalizer<4,>=2 in /usr/local/lib/python3.10/dist-packages (from requests<3,>=2->langchain) (3.4.0)\n",
            "Requirement already satisfied: urllib3<3,>=1.21.1 in /usr/local/lib/python3.10/dist-packages (from requests<3,>=2->langchain) (2.2.3)\n",
            "Requirement already satisfied: greenlet!=0.4.17 in /usr/local/lib/python3.10/dist-packages (from SQLAlchemy<3,>=1.4->langchain) (3.1.1)\n",
            "Requirement already satisfied: regex>=2022.1.18 in /usr/local/lib/python3.10/dist-packages (from tiktoken<1,>=0.7->langchain_openai) (2024.9.11)\n",
            "Requirement already satisfied: soupsieve>1.2 in /usr/local/lib/python3.10/dist-packages (from beautifulsoup4->wikipedia) (2.6)\n",
            "Requirement already satisfied: contourpy>=1.0.1 in /usr/local/lib/python3.10/dist-packages (from matplotlib->japanize-matplotlib) (1.3.0)\n",
            "Requirement already satisfied: cycler>=0.10 in /usr/local/lib/python3.10/dist-packages (from matplotlib->japanize-matplotlib) (0.12.1)\n",
            "Requirement already satisfied: fonttools>=4.22.0 in /usr/local/lib/python3.10/dist-packages (from matplotlib->japanize-matplotlib) (4.54.1)\n",
            "Requirement already satisfied: kiwisolver>=1.0.1 in /usr/local/lib/python3.10/dist-packages (from matplotlib->japanize-matplotlib) (1.4.7)\n",
            "Requirement already satisfied: pillow>=6.2.0 in /usr/local/lib/python3.10/dist-packages (from matplotlib->japanize-matplotlib) (10.4.0)\n",
            "Requirement already satisfied: pyparsing>=2.3.1 in /usr/local/lib/python3.10/dist-packages (from matplotlib->japanize-matplotlib) (3.2.0)\n",
            "Collecting jsonpointer>=1.9 (from jsonpatch<2.0,>=1.33->langchain-core<0.4.0,>=0.3.12->langchain)\n",
            "  Downloading jsonpointer-3.0.0-py2.py3-none-any.whl.metadata (2.3 kB)\n",
            "Collecting mypy-extensions>=0.3.0 (from typing-inspect<1,>=0.4.0->dataclasses-json<0.7,>=0.5.7->langchain_community)\n",
            "  Downloading mypy_extensions-1.0.0-py3-none-any.whl.metadata (1.1 kB)\n",
            "Requirement already satisfied: propcache>=0.2.0 in /usr/local/lib/python3.10/dist-packages (from yarl<2.0,>=1.12.0->aiohttp<4.0.0,>=3.8.3->langchain) (0.2.0)\n",
            "Downloading langchain-0.3.4-py3-none-any.whl (1.0 MB)\n",
            "\u001b[2K   \u001b[90m━━━━━━━━━━━━━━━━━━━━━━━━━━━━━━━━━━━━━━━━\u001b[0m \u001b[32m1.0/1.0 MB\u001b[0m \u001b[31m35.5 MB/s\u001b[0m eta \u001b[36m0:00:00\u001b[0m\n",
            "\u001b[?25hDownloading openai-1.52.2-py3-none-any.whl (386 kB)\n",
            "\u001b[2K   \u001b[90m━━━━━━━━━━━━━━━━━━━━━━━━━━━━━━━━━━━━━━━━\u001b[0m \u001b[32m386.9/386.9 kB\u001b[0m \u001b[31m24.8 MB/s\u001b[0m eta \u001b[36m0:00:00\u001b[0m\n",
            "\u001b[?25hDownloading langchain_community-0.3.3-py3-none-any.whl (2.4 MB)\n",
            "\u001b[2K   \u001b[90m━━━━━━━━━━━━━━━━━━━━━━━━━━━━━━━━━━━━━━━━\u001b[0m \u001b[32m2.4/2.4 MB\u001b[0m \u001b[31m36.6 MB/s\u001b[0m eta \u001b[36m0:00:00\u001b[0m\n",
            "\u001b[?25hDownloading langchain_openai-0.2.3-py3-none-any.whl (49 kB)\n",
            "\u001b[2K   \u001b[90m━━━━━━━━━━━━━━━━━━━━━━━━━━━━━━━━━━━━━━━━\u001b[0m \u001b[32m49.9/49.9 kB\u001b[0m \u001b[31m3.0 MB/s\u001b[0m eta \u001b[36m0:00:00\u001b[0m\n",
            "\u001b[?25hDownloading langgraph-0.2.39-py3-none-any.whl (113 kB)\n",
            "\u001b[2K   \u001b[90m━━━━━━━━━━━━━━━━━━━━━━━━━━━━━━━━━━━━━━━━\u001b[0m \u001b[32m113.5/113.5 kB\u001b[0m \u001b[31m8.4 MB/s\u001b[0m eta \u001b[36m0:00:00\u001b[0m\n",
            "\u001b[?25hDownloading langchain_experimental-0.3.2-py3-none-any.whl (208 kB)\n",
            "\u001b[2K   \u001b[90m━━━━━━━━━━━━━━━━━━━━━━━━━━━━━━━━━━━━━━━━\u001b[0m \u001b[32m208.1/208.1 kB\u001b[0m \u001b[31m14.1 MB/s\u001b[0m eta \u001b[36m0:00:00\u001b[0m\n",
            "\u001b[?25hDownloading langsmith-0.1.137-py3-none-any.whl (296 kB)\n",
            "\u001b[2K   \u001b[90m━━━━━━━━━━━━━━━━━━━━━━━━━━━━━━━━━━━━━━━━\u001b[0m \u001b[32m296.9/296.9 kB\u001b[0m \u001b[31m10.6 MB/s\u001b[0m eta \u001b[36m0:00:00\u001b[0m\n",
            "\u001b[?25hDownloading langgraph_checkpoint_sqlite-2.0.1-py3-none-any.whl (12 kB)\n",
            "Downloading pyttsx3-2.98-py3-none-any.whl (34 kB)\n",
            "Downloading aiosqlite-0.20.0-py3-none-any.whl (15 kB)\n",
            "Downloading dataclasses_json-0.6.7-py3-none-any.whl (28 kB)\n",
            "Downloading httpx-0.27.2-py3-none-any.whl (76 kB)\n",
            "\u001b[2K   \u001b[90m━━━━━━━━━━━━━━━━━━━━━━━━━━━━━━━━━━━━━━━━\u001b[0m \u001b[32m76.4/76.4 kB\u001b[0m \u001b[31m4.5 MB/s\u001b[0m eta \u001b[36m0:00:00\u001b[0m\n",
            "\u001b[?25hDownloading httpcore-1.0.6-py3-none-any.whl (78 kB)\n",
            "\u001b[2K   \u001b[90m━━━━━━━━━━━━━━━━━━━━━━━━━━━━━━━━━━━━━━━━\u001b[0m \u001b[32m78.0/78.0 kB\u001b[0m \u001b[31m4.5 MB/s\u001b[0m eta \u001b[36m0:00:00\u001b[0m\n",
            "\u001b[?25hDownloading jiter-0.6.1-cp310-cp310-manylinux_2_17_x86_64.manylinux2014_x86_64.whl (325 kB)\n",
            "\u001b[2K   \u001b[90m━━━━━━━━━━━━━━━━━━━━━━━━━━━━━━━━━━━━━━━━\u001b[0m \u001b[32m325.2/325.2 kB\u001b[0m \u001b[31m12.0 MB/s\u001b[0m eta \u001b[36m0:00:00\u001b[0m\n",
            "\u001b[?25hDownloading langchain_core-0.3.13-py3-none-any.whl (408 kB)\n",
            "\u001b[2K   \u001b[90m━━━━━━━━━━━━━━━━━━━━━━━━━━━━━━━━━━━━━━━━\u001b[0m \u001b[32m408.0/408.0 kB\u001b[0m \u001b[31m24.0 MB/s\u001b[0m eta \u001b[36m0:00:00\u001b[0m\n",
            "\u001b[?25hDownloading langchain_text_splitters-0.3.0-py3-none-any.whl (25 kB)\n",
            "Downloading langgraph_checkpoint-2.0.2-py3-none-any.whl (23 kB)\n",
            "Downloading langgraph_sdk-0.1.34-py3-none-any.whl (28 kB)\n",
            "Downloading orjson-3.10.10-cp310-cp310-manylinux_2_17_x86_64.manylinux2014_x86_64.whl (144 kB)\n",
            "\u001b[2K   \u001b[90m━━━━━━━━━━━━━━━━━━━━━━━━━━━━━━━━━━━━━━━━\u001b[0m \u001b[32m144.5/144.5 kB\u001b[0m \u001b[31m8.7 MB/s\u001b[0m eta \u001b[36m0:00:00\u001b[0m\n",
            "\u001b[?25hDownloading pydantic_settings-2.6.0-py3-none-any.whl (28 kB)\n",
            "Downloading requests_toolbelt-1.0.0-py2.py3-none-any.whl (54 kB)\n",
            "\u001b[2K   \u001b[90m━━━━━━━━━━━━━━━━━━━━━━━━━━━━━━━━━━━━━━━━\u001b[0m \u001b[32m54.5/54.5 kB\u001b[0m \u001b[31m2.8 MB/s\u001b[0m eta \u001b[36m0:00:00\u001b[0m\n",
            "\u001b[?25hDownloading tiktoken-0.8.0-cp310-cp310-manylinux_2_17_x86_64.manylinux2014_x86_64.whl (1.2 MB)\n",
            "\u001b[2K   \u001b[90m━━━━━━━━━━━━━━━━━━━━━━━━━━━━━━━━━━━━━━━━\u001b[0m \u001b[32m1.2/1.2 MB\u001b[0m \u001b[31m33.2 MB/s\u001b[0m eta \u001b[36m0:00:00\u001b[0m\n",
            "\u001b[?25hDownloading httpx_sse-0.4.0-py3-none-any.whl (7.8 kB)\n",
            "Downloading jsonpatch-1.33-py2.py3-none-any.whl (12 kB)\n",
            "Downloading marshmallow-3.23.0-py3-none-any.whl (49 kB)\n",
            "\u001b[2K   \u001b[90m━━━━━━━━━━━━━━━━━━━━━━━━━━━━━━━━━━━━━━━━\u001b[0m \u001b[32m49.5/49.5 kB\u001b[0m \u001b[31m2.3 MB/s\u001b[0m eta \u001b[36m0:00:00\u001b[0m\n",
            "\u001b[?25hDownloading python_dotenv-1.0.1-py3-none-any.whl (19 kB)\n",
            "Downloading typing_inspect-0.9.0-py3-none-any.whl (8.8 kB)\n",
            "Downloading h11-0.14.0-py3-none-any.whl (58 kB)\n",
            "\u001b[2K   \u001b[90m━━━━━━━━━━━━━━━━━━━━━━━━━━━━━━━━━━━━━━━━\u001b[0m \u001b[32m58.3/58.3 kB\u001b[0m \u001b[31m3.2 MB/s\u001b[0m eta \u001b[36m0:00:00\u001b[0m\n",
            "\u001b[?25hDownloading jsonpointer-3.0.0-py2.py3-none-any.whl (7.6 kB)\n",
            "Downloading mypy_extensions-1.0.0-py3-none-any.whl (4.7 kB)\n",
            "Building wheels for collected packages: wikipedia, japanize-matplotlib\n",
            "  Building wheel for wikipedia (setup.py) ... \u001b[?25l\u001b[?25hdone\n",
            "  Created wheel for wikipedia: filename=wikipedia-1.4.0-py3-none-any.whl size=11679 sha256=b61c11c219fba481c6fa98365e1477e4b8f4f741b5b593fbde8f89b7b7755a68\n",
            "  Stored in directory: /root/.cache/pip/wheels/5e/b6/c5/93f3dec388ae76edc830cb42901bb0232504dfc0df02fc50de\n",
            "  Building wheel for japanize-matplotlib (setup.py) ... \u001b[?25l\u001b[?25hdone\n",
            "  Created wheel for japanize-matplotlib: filename=japanize_matplotlib-1.1.3-py3-none-any.whl size=4120257 sha256=d7141ae818de22035a67deeb5338dd95b5f6dfe2f81e77a4111311e13fb5cbb2\n",
            "  Stored in directory: /root/.cache/pip/wheels/61/7a/6b/df1f79be9c59862525070e157e62b08eab8ece27c1b68fbb94\n",
            "Successfully built wikipedia japanize-matplotlib\n",
            "Installing collected packages: pyttsx3, python-dotenv, orjson, mypy-extensions, marshmallow, jsonpointer, jiter, httpx-sse, h11, aiosqlite, wikipedia, typing-inspect, tiktoken, requests-toolbelt, jsonpatch, httpcore, pydantic-settings, japanize-matplotlib, httpx, dataclasses-json, openai, langsmith, langgraph-sdk, langchain-core, langgraph-checkpoint, langchain-text-splitters, langchain_openai, langgraph-checkpoint-sqlite, langgraph, langchain, langchain_community, langchain_experimental\n",
            "Successfully installed aiosqlite-0.20.0 dataclasses-json-0.6.7 h11-0.14.0 httpcore-1.0.6 httpx-0.27.2 httpx-sse-0.4.0 japanize-matplotlib-1.1.3 jiter-0.6.1 jsonpatch-1.33 jsonpointer-3.0.0 langchain-0.3.4 langchain-core-0.3.13 langchain-text-splitters-0.3.0 langchain_community-0.3.3 langchain_experimental-0.3.2 langchain_openai-0.2.3 langgraph-0.2.39 langgraph-checkpoint-2.0.2 langgraph-checkpoint-sqlite-2.0.1 langgraph-sdk-0.1.34 langsmith-0.1.137 marshmallow-3.23.0 mypy-extensions-1.0.0 openai-1.52.2 orjson-3.10.10 pydantic-settings-2.6.0 python-dotenv-1.0.1 pyttsx3-2.98 requests-toolbelt-1.0.0 tiktoken-0.8.0 typing-inspect-0.9.0 wikipedia-1.4.0\n"
          ]
        }
      ],
      "source": [
        "!pip install python-dotenv langchain_community langchain_openai wikipedia langgraph langchain_experimental langsmith langgraph-checkpoint-sqlite pandas japanize-matplotlib pyttsx3"
      ]
    },
    {
      "cell_type": "markdown",
      "metadata": {
        "id": "Z7sq5c8cBP8m"
      },
      "source": [
        "# これ以降の処理の処理に必要なAPIキ-\n",
        "\n",
        "* \"BING_SUBSCRIPTION_KEY\"\n",
        "* \"LANGCHAIN_API_KEY\"\n",
        "* \"OPENAI_API_KEY\"\n",
        "* \"BING_SUBSCRIPTION_KEY\""
      ]
    },
    {
      "cell_type": "code",
      "execution_count": null,
      "metadata": {},
      "outputs": [],
      "source": [
        "# .envファイルの内容を読み込見込む\n",
        "load_dotenv()"
      ]
    },
    {
      "cell_type": "markdown",
      "metadata": {
        "id": "v5MwZ-blH_0j"
      },
      "source": [
        "# 教材のスクリプト作成に向けた試作"
      ]
    },
    {
      "cell_type": "markdown",
      "metadata": {
        "id": "qI6lFJR5QEmn"
      },
      "source": [
        "## WikiSearchのサンプルコード\n",
        "\n",
        "Wikipediaに対して検索クエリを作成&問い合わせ"
      ]
    },
    {
      "cell_type": "markdown",
      "metadata": {
        "id": "HKFuI-v_QGfR"
      },
      "source": []
    },
    {
      "cell_type": "code",
      "execution_count": null,
      "metadata": {
        "id": "1S_rh0tGJXQS"
      },
      "outputs": [],
      "source": [
        "# ライブラリのインポート\n",
        "from langchain_openai import ChatOpenAI\n",
        "from langchain.agents import Tool, AgentExecutor, AgentType, load_tools\n",
        "from langchain.utilities import WikipediaAPIWrapper\n",
        "from langchain.agents import initialize_agent\n",
        "\n",
        "# LLMの設定\n",
        "llm = ChatOpenAI(model=\"gpt-4o-mini\",temperature=0)"
      ]
    },
    {
      "cell_type": "code",
      "execution_count": null,
      "metadata": {
        "colab": {
          "base_uri": "https://localhost:8080/"
        },
        "id": "AwBuRwnQJPaz",
        "outputId": "debab67c-bafb-48ed-9961-ce7e0e69e4ae"
      },
      "outputs": [
        {
          "name": "stderr",
          "output_type": "stream",
          "text": [
            "<ipython-input-14-050eeb843d07>:20: LangChainDeprecationWarning: The method `Chain.__call__` was deprecated in langchain 0.1.0 and will be removed in 1.0. Use :meth:`~invoke` instead.\n",
            "  result = agent(\"アルベルト・アインシュタインの生涯について教えてください。\")\n"
          ]
        },
        {
          "name": "stdout",
          "output_type": "stream",
          "text": [
            "\n",
            "\n",
            "\u001b[1m> Entering new AgentExecutor chain...\u001b[0m\n",
            "\u001b[32;1m\u001b[1;3mアルベルト・アインシュタインの生涯についての情報を得るために、Wikipediaを検索する必要があります。彼の生涯には多くの重要な出来事や業績が含まれているため、詳細な情報を取得することが重要です。\n",
            "\n",
            "Action: Wikipedia  \n",
            "Action Input: アルベルト・アインシュタインの生涯  \n",
            "\u001b[0m\n",
            "Observation: \u001b[36;1m\u001b[1;3mNo good Wikipedia Search Result was found\u001b[0m\n",
            "Thought:\u001b[32;1m\u001b[1;3mWikipediaからの情報が得られなかったため、別の方法でアルベルト・アインシュタインの生涯についての情報をまとめる必要があります。彼の生涯の主要な出来事や業績について考えます。\n",
            "\n",
            "1. アインシュタインは1879年にドイツのウルムで生まれました。\n",
            "2. 彼はスイスのチューリッヒ工科大学で学び、1905年に特異相対性理論を発表しました。\n",
            "3. 1915年には一般相対性理論を完成させ、重力の理解に革命をもたらしました。\n",
            "4. 彼は1921年にノーベル物理学賞を受賞し、光電効果の研究が評価されました。\n",
            "5. 1933年にナチスの台頭を受けてアメリカに移住し、プリンストン大学で教鞭をとりました。\n",
            "6. 彼は1955年に亡くなるまで、科学界で重要な影響を与え続けました。\n",
            "\n",
            "これらの情報を基に、アルベルト・アインシュタインの生涯についての概要を提供できます。\n",
            "\n",
            "Thought: I now know the final answer\n",
            "Final Answer: アルベルト・アインシュタインは1879年にドイツで生まれ、1905年に特異相対性理論を発表し、1915年に一般相対性理論を完成させました。1921年にノーベル物理学賞を受賞し、1933年にアメリカに移住し、プリンストン大学で教えました。彼は1955年に亡くなるまで、科学界に大きな影響を与えました。\u001b[0m\n",
            "\n",
            "\u001b[1m> Finished chain.\u001b[0m\n",
            "{'input': 'アルベルト・アインシュタインの生涯について教えてください。', 'output': 'アルベルト・アインシュタインは1879年にドイツで生まれ、1905年に特異相対性理論を発表し、1915年に一般相対性理論を完成させました。1921年にノーベル物理学賞を受賞し、1933年にアメリカに移住し、プリンストン大学で教えました。彼は1955年に亡くなるまで、科学界に大きな影響を与えました。'}\n"
          ]
        }
      ],
      "source": [
        "# ツールの定義\n",
        "wikipedia = WikipediaAPIWrapper()\n",
        "tools = [\n",
        "    Tool(\n",
        "        name=\"Wikipedia\",\n",
        "        func=wikipedia.run,\n",
        "        description=\"Wikipediaから情報を取得するためのツール。\"\n",
        "    )\n",
        "]\n",
        "\n",
        "# エージェントの作成\n",
        "agent = initialize_agent(\n",
        "    tools,\n",
        "    llm,\n",
        "    agent=AgentType.ZERO_SHOT_REACT_DESCRIPTION,\n",
        "    verbose=True\n",
        ")\n",
        "\n",
        "# エージェントの実行\n",
        "result = agent(\"アルベルト・アインシュタインの生涯について教えてください。\")\n",
        "print(result)"
      ]
    },
    {
      "cell_type": "markdown",
      "metadata": {
        "id": "mLhCv3Q9QHLy"
      },
      "source": [
        "## Bing searchのサンプルコード\n",
        "Bingに対して検索クエリを作成&問い合わせ"
      ]
    },
    {
      "cell_type": "code",
      "execution_count": null,
      "metadata": {
        "id": "4b3lvQpE8UD8"
      },
      "outputs": [],
      "source": [
        "import japanize_matplotlib\n",
        "import markdown\n",
        "\n",
        "# Markdownファイルのパス\n",
        "markdown_file_path = \"/content/図形と方程式_o1_v2.md\"\n",
        "\n",
        "# Markdownファイルを読み込み\n",
        "with open(markdown_file_path, \"r\", encoding=\"utf-8\") as file:\n",
        "    markdown_text = file.read()"
      ]
    },
    {
      "cell_type": "code",
      "execution_count": null,
      "metadata": {
        "id": "CT6IRMriQe_i"
      },
      "outputs": [],
      "source": [
        "from langchain_community.utilities import BingSearchAPIWrapper"
      ]
    },
    {
      "cell_type": "code",
      "execution_count": null,
      "metadata": {
        "id": "09gKEWaoQ3ER"
      },
      "outputs": [],
      "source": [
        "search = BingSearchAPIWrapper()"
      ]
    },
    {
      "cell_type": "code",
      "execution_count": null,
      "metadata": {
        "colab": {
          "base_uri": "https://localhost:8080/"
        },
        "id": "l-8pqkKrQ3gF",
        "outputId": "4a44c0b4-0d2a-4108-ebb2-9153f3ec8d81"
      },
      "outputs": [
        {
          "data": {
            "text/plain": [
              "[{'snippet': '<b>Python</b> is a versatile and powerful language that lets you work quickly and integrate systems more effectively. Learn how to get started, download the latest version, access documentation, find jobs, and join the<b> Python</b> community.',\n",
              "  'title': 'Welcome to Python.org',\n",
              "  'link': 'https://www.python.org/'},\n",
              " {'snippet': '<b>Python</b> is a popular programming language for various purposes. Find the latest version of<b> Python</b> for different operating systems, or browse the release history and prereleases of<b> Python.</b>',\n",
              "  'title': 'Download Python | Python.org',\n",
              "  'link': 'https://www.python.org/downloads/'}]"
            ]
          },
          "execution_count": 21,
          "metadata": {},
          "output_type": "execute_result"
        }
      ],
      "source": [
        "search.results(\"python\",2)"
      ]
    },
    {
      "cell_type": "code",
      "execution_count": null,
      "metadata": {
        "colab": {
          "base_uri": "https://localhost:8080/"
        },
        "id": "Gvod8zd2Q5nm",
        "outputId": "b2cf2f71-86ee-4e8d-a9e0-bcc20bde1e00"
      },
      "outputs": [
        {
          "name": "stdout",
          "output_type": "stream",
          "text": [
            "\n",
            "\n",
            "\u001b[1m> Entering new AgentExecutor chain...\u001b[0m\n",
            "\u001b[32;1m\u001b[1;3mアルベルト・アインシュタインの生涯についての情報を集める必要があります。彼の生涯は非常に興味深く、科学的業績や個人的な出来事が多く含まれています。具体的な情報を得るために、検索を行います。\n",
            "\n",
            "Action: Bing_search  \n",
            "Action Input: アルベルト・アインシュタイン 生涯  \n",
            "\u001b[0m\n",
            "Observation: \u001b[36;1m\u001b[1;3m<b>アルベルト・アインシュタイン</b>[ 注釈 1 ] （独 : Albert <b>Einstein</b>[ 注釈 2 ][ 注釈 3 ][ 1 ][ 2 ] 、 1879年 3月14日 - 1955年 4月18日）は、 ドイツ 生まれの 理論物理学者 、 社会主義者 [ 3 ]。 <b>アインシュタイン</b>とはどんな人？. <b>生涯</b>を紹介【名言や相対性理論、脳やIQも解説】. <b>アインシュタイン</b>は相対性理論を証明し、ノーベル物理学賞を受賞した科学者です。. 舌を出している写真で知っている方も多いでしょう。. 「20世紀最大の天才」とも称さ ... アルバート・<b>アインシュタイン</b>の<b>生涯</b>と人生に関して、興味深い15の話を紹介していきます。20世紀最高の偉大な物理学者について見ていきましょう。20世紀に活躍した学者として知られる人物と言えば、アルバート・アンシュタイン（<b>アルベルト</b>・アインシュ <b>アインシュタイン</b>って何をした人？. 功績や最後などを解説！. まとめ. 天才の代名詞とされることも多い、20世紀最大の理論物理学者<b>アインシュタイン</b>。. 半導体、コンピューター、GPS・人工衛星、など、この21世紀に普通に使われている技術は ... <b>アルベルト・アインシュタイン</b>[ 注釈 1 ] （独 : Albert <b>Einstein</b>[ 注釈 2 ][ 注釈 3 ][ 1 ][ 2 ] 、 1879年 3月14日 - 1955年 4月18日）は、 ドイツ 生まれの 理論物理学者 、 社会主義者 [ 3 ]。. ユダヤ人。. スイス連邦工科大学チューリッヒ校 卒業。. [続きの解説 ... 「<b>アインシュタイン</b>」ってどんな人？ 相対性理論の創始者で、20世紀最大の物理学者として知られる「<b>アインシュタイン</b>」の人物像や<b>生涯</b>をみていきましょう。 <b>アルベルト・アインシュタイン</b>は、1879年3月14日にドイツで生まれました。 <b>アルベルト・アインシュタイン</b>の<b>生涯</b>と業績 <b>アルベルト・アインシュタイン</b>は、1879年にドイツのウルムで生まれました。 <b>アルベルト・アインシュタイン</b>と聞くと、相対性理論や「E=mc2」が思い浮かびますが、実際には「どんな人物だったのか詳しく知らない」という人も多いのではないでしょうか。今回はそんな<b>アインシュタイン</b>の<b>生涯</b>と、偉業の数々をできるだけわかりやすく解説してまいります。あまりに難し ... アルバート・<b>アインシュタイン</b>の伝記、理論物理学者. 20世紀に生きたドイツ生まれの理論物理学者であるアルバート<b>アインシュタイン</b>（1879年3月14日-1955年4月18日）は、科学的思考に革命をもたらしました。. 相対性理論を発展させた<b>アインシュタイン</b>は ... アルバート・<b>アインシュタイン</b>の初期の仕事. 1901年、アルバート<b>アインシュタイン</b>は、物理学と数学の教師として卒業証書を取得しました。. 教職を見つけることができなかったため、彼はスイス特許庁に勤務しました。. 彼は1905年に博士号を取得し、同じ ...\u001b[0m\n",
            "Thought:\u001b[32;1m\u001b[1;3mアルベルト・アインシュタインの生涯についての情報が得られました。彼は1879年3月14日にドイツのウルムで生まれ、1955年4月18日に亡くなりました。アインシュタインは理論物理学者として知られ、特に相対性理論の創始者として名を馳せました。彼はスイス連邦工科大学チューリッヒ校を卒業し、初期にはスイス特許庁で働いていました。1905年には博士号を取得し、その後の業績によりノーベル物理学賞を受賞しました。アインシュタインは「E=mc²」という有名な方程式を提唱し、20世紀の科学に多大な影響を与えました。\n",
            "\n",
            "Final Answer: アルベルト・アインシュタインは1879年3月14日にドイツで生まれ、1955年4月18日に亡くなった理論物理学者です。相対性理論の創始者であり、ノーベル物理学賞を受賞しました。彼はスイス連邦工科大学を卒業後、スイス特許庁で働き、1905年に博士号を取得しました。彼の業績は20世紀の科学に大きな影響を与えました。\u001b[0m\n",
            "\n",
            "\u001b[1m> Finished chain.\u001b[0m\n",
            "{'input': 'アルベルト・アインシュタインの生涯について教えてください。', 'output': 'アルベルト・アインシュタインは1879年3月14日にドイツで生まれ、1955年4月18日に亡くなった理論物理学者です。相対性理論の創始者であり、ノーベル物理学賞を受賞しました。彼はスイス連邦工科大学を卒業後、スイス特許庁で働き、1905年に博士号を取得しました。彼の業績は20世紀の科学に大きな影響を与えました。'}\n"
          ]
        }
      ],
      "source": [
        "# ツールの定義\n",
        "search = BingSearchAPIWrapper()\n",
        "tools = [\n",
        "    Tool(\n",
        "        name=\"Bing_search\",\n",
        "        func=search.run,\n",
        "        description=\"Bing検索によって情報を得るツール\"\n",
        "    )\n",
        "]\n",
        "\n",
        "# エージェントの作成\n",
        "agent = initialize_agent(\n",
        "    tools,\n",
        "    llm,\n",
        "    agent=AgentType.ZERO_SHOT_REACT_DESCRIPTION,\n",
        "    verbose=True\n",
        ")\n",
        "\n",
        "# エージェントの実行\n",
        "result = agent(\"アルベルト・アインシュタインの生涯について教えてください。\")\n",
        "print(result)"
      ]
    },
    {
      "cell_type": "markdown",
      "metadata": {
        "id": "hySq-qT8YtZu"
      },
      "source": [
        "## Langgraphのサンプルコード\n",
        "条件によってLangchainの処理機構を設定できる"
      ]
    },
    {
      "cell_type": "code",
      "execution_count": null,
      "metadata": {
        "id": "kAbuf9nc5y4m"
      },
      "outputs": [],
      "source": [
        "!pip install -U langgraph langchain langchain_openai langchain_experimental langsmith langgraph-checkpoint-sqlite pandas"
      ]
    },
    {
      "cell_type": "code",
      "execution_count": null,
      "metadata": {
        "id": "QeOzWqRMYw8-"
      },
      "outputs": [],
      "source": [
        "from typing import List\n",
        "from langchain_core.messages import SystemMessage\n",
        "# 新バージョンのインポート\n",
        "from pydantic import BaseModel\n",
        "from langchain_openai import ChatOpenAI\n",
        "\n",
        "# ユーザーからの要件を収集するためのテンプレート\n",
        "template = \"\"\"Your job is to get information from a user about what type of prompt template they want to create.\n",
        "\n",
        "You should get the following information from them:\n",
        "\n",
        "- What the objective of the prompt is\n",
        "- What variables will be passed into the prompt template\n",
        "- Any constraints for what the output should NOT do\n",
        "- Any requirements that the output MUST adhere to\n",
        "\n",
        "If you are not able to discern this info, ask them to clarify! Do not attempt to wildly guess.\n",
        "\n",
        "After you are able to discern all the information, call the relevant tool.\"\"\"\n",
        "\n",
        "def get_messages_info(messages):\n",
        "    return [SystemMessage(content=template)] + messages\n",
        "\n",
        "class PromptInstructions(BaseModel):\n",
        "    \"\"\"Instructions on how to prompt the LLM.\"\"\"\n",
        "    objective: str\n",
        "    variables: List[str]\n",
        "    constraints: List[str]\n",
        "    requirements: List[str]\n",
        "\n",
        "llm = ChatOpenAI(temperature=0)\n",
        "llm_with_tool = llm.bind_tools([PromptInstructions])\n",
        "\n",
        "chain = get_messages_info | llm_with_tool\n"
      ]
    },
    {
      "cell_type": "code",
      "execution_count": null,
      "metadata": {
        "id": "vNXumqPl9YR4"
      },
      "outputs": [],
      "source": [
        "from langchain_core.messages import AIMessage, HumanMessage, ToolMessage\n",
        "\n",
        "# プロンプト生成のための新しいシステムプロンプト\n",
        "prompt_system = \"\"\"Based on the following requirements, write a good prompt template:\n",
        "\n",
        "{reqs}\"\"\"\n",
        "\n",
        "# プロンプト生成のためのメッセージを取得する関数\n",
        "def get_prompt_messages(messages: list):\n",
        "    tool_call = None\n",
        "    other_msgs = []\n",
        "    for m in messages:\n",
        "        if isinstance(m, AIMessage) and m.tool_calls:\n",
        "            tool_call = m.tool_calls[0][\"args\"]\n",
        "        elif isinstance(m, ToolMessage):\n",
        "            continue\n",
        "        elif tool_call is not None:\n",
        "            other_msgs.append(m)\n",
        "    return [SystemMessage(content=prompt_system.format(reqs=tool_call))] + other_msgs\n",
        "\n",
        "prompt_gen_chain = get_prompt_messages | llm\n"
      ]
    },
    {
      "cell_type": "code",
      "execution_count": null,
      "metadata": {
        "id": "TM9Kmhw3_RLi"
      },
      "outputs": [],
      "source": [
        "from typing import Literal\n",
        "from langgraph.graph import END\n",
        "\n",
        "def get_state(messages) -> Literal[\"add_tool_message\", \"info\", \"__end__\"]:\n",
        "    if isinstance(messages[-1], AIMessage) and messages[-1].tool_calls:\n",
        "        return \"add_tool_message\"\n",
        "    elif not isinstance(messages[-1], HumanMessage):\n",
        "        return END\n",
        "    return \"info\"\n"
      ]
    },
    {
      "cell_type": "code",
      "execution_count": null,
      "metadata": {
        "colab": {
          "base_uri": "https://localhost:8080/"
        },
        "id": "mBc016eDAc-q",
        "outputId": "cd3fa6c8-711a-4b46-fe88-d837d34c23d4"
      },
      "outputs": [
        {
          "name": "stdout",
          "output_type": "stream",
          "text": [
            "StateSnapshot(values=[HumanMessage(content='こんにちは', additional_kwargs={}, response_metadata={}, id='92a57fbe-c168-453d-89d8-df297ba7a474'), AIMessage(content='こんにちは！プロンプトのテンプレートを作成するために、以下の情報を教えていただけますか？\\n\\n- プロンプトの目的は何ですか？\\n- プロンプトテンプレートに渡される変数は何ですか？\\n- 出力が行ってはいけない制約はありますか？\\n- 出力が必ず守らなければならない要件はありますか？\\n\\nよろしくお願いします！', additional_kwargs={'refusal': None}, response_metadata={'token_usage': {'completion_tokens': 133, 'prompt_tokens': 168, 'total_tokens': 301, 'completion_tokens_details': {'reasoning_tokens': 0}}, 'model_name': 'gpt-3.5-turbo-0125', 'system_fingerprint': None, 'finish_reason': 'stop', 'logprobs': None}, id='run-fb795343-3458-42e9-ba5b-0871f7c2b36c-0', usage_metadata={'input_tokens': 168, 'output_tokens': 133, 'total_tokens': 301}), HumanMessage(content='こんにちは', additional_kwargs={}, response_metadata={}, id='1f152bae-64e8-4b6a-87b9-e79456e52c7f'), AIMessage(content='こんにちは！プロンプトのテンプレートを作成するために、以下の情報を教えていただけますか？\\n\\n- プロンプトの目的は何ですか？\\n- プロンプトテンプレートに渡される変数は何ですか？\\n- 出力が行ってはいけない制約はありますか？\\n- 出力が必ず守らなければならない要件はありますか？\\n\\nよろしくお願いします！', additional_kwargs={'refusal': None}, response_metadata={'token_usage': {'completion_tokens': 133, 'prompt_tokens': 309, 'total_tokens': 442, 'completion_tokens_details': {'reasoning_tokens': 0}}, 'model_name': 'gpt-3.5-turbo-0125', 'system_fingerprint': None, 'finish_reason': 'stop', 'logprobs': None}, id='run-edf2077b-6588-467c-b93b-e035b6c3e204-0', usage_metadata={'input_tokens': 309, 'output_tokens': 133, 'total_tokens': 442}), HumanMessage(content='こんにちは', additional_kwargs={}, response_metadata={}, id='1ac56c32-9d00-4ef1-81d6-65590ea4ba56'), AIMessage(content='申し訳ありませんが、プロンプトのテンプレートを作成するために必要な情報を教えていただけますか？以下の情報が必要です：\\n\\n- プロンプトの目的は何ですか？\\n- プロンプトテンプレートに渡される変数は何ですか？\\n- 出力が行ってはいけない制約はありますか？\\n- 出力が必ず守らなければならない要件はありますか？\\n\\nよろしくお願いします！', additional_kwargs={'refusal': None}, response_metadata={'token_usage': {'completion_tokens': 151, 'prompt_tokens': 450, 'total_tokens': 601, 'completion_tokens_details': {'reasoning_tokens': 0}}, 'model_name': 'gpt-3.5-turbo-0125', 'system_fingerprint': None, 'finish_reason': 'stop', 'logprobs': None}, id='run-e7ff877f-84a9-4028-8e1b-229ad288220e-0', usage_metadata={'input_tokens': 450, 'output_tokens': 151, 'total_tokens': 601})], next=(), config={'configurable': {'thread_id': '1', 'checkpoint_ns': '', 'checkpoint_id': '1ef8006c-1140-6df8-8007-ec51a18b1b0e'}}, metadata={'source': 'loop', 'writes': {'info': AIMessage(content='申し訳ありませんが、プロンプトのテンプレートを作成するために必要な情報を教えていただけますか？以下の情報が必要です：\\n\\n- プロンプトの目的は何ですか？\\n- プロンプトテンプレートに渡される変数は何ですか？\\n- 出力が行ってはいけない制約はありますか？\\n- 出力が必ず守らなければならない要件はありますか？\\n\\nよろしくお願いします！', additional_kwargs={'refusal': None}, response_metadata={'token_usage': {'completion_tokens': 151, 'prompt_tokens': 450, 'total_tokens': 601, 'completion_tokens_details': {'reasoning_tokens': 0}}, 'model_name': 'gpt-3.5-turbo-0125', 'system_fingerprint': None, 'finish_reason': 'stop', 'logprobs': None}, id='run-e7ff877f-84a9-4028-8e1b-229ad288220e-0', usage_metadata={'input_tokens': 450, 'output_tokens': 151, 'total_tokens': 601})}, 'step': 7, 'parents': {}}, created_at='2024-10-01T15:06:36.925036+00:00', parent_config={'configurable': {'thread_id': '1', 'checkpoint_ns': '', 'checkpoint_id': '1ef8006b-f92c-6abc-8006-bfa47cce96e2'}}, tasks=())\n"
          ]
        }
      ],
      "source": [
        "import sqlite3\n",
        "from langgraph.checkpoint.sqlite import SqliteSaver\n",
        "from langgraph.graph import START, MessageGraph\n",
        "from IPython.display import Image, display\n",
        "from langchain_core.messages import ToolMessage\n",
        "\n",
        "conn = sqlite3.connect(\"checkpoints.sqlite\",check_same_thread=False)\n",
        "memory = SqliteSaver(conn)\n",
        "\n",
        "workflow = MessageGraph()\n",
        "workflow.add_node(\"info\", chain)\n",
        "workflow.add_node(\"prompt\", prompt_gen_chain)\n",
        "\n",
        "@workflow.add_node\n",
        "def add_tool_message(state: list):\n",
        "    return ToolMessage(\n",
        "        content=\"Prompt generated!\", tool_call_id=state[-1].tool_calls[0][\"id\"]\n",
        "    )\n",
        "\n",
        "workflow.add_conditional_edges(\"info\", get_state)\n",
        "workflow.add_edge(\"add_tool_message\", \"prompt\")\n",
        "workflow.add_edge(\"prompt\", END)\n",
        "workflow.add_edge(START, \"info\")\n",
        "\n",
        "graph = workflow.compile(checkpointer=memory)\n",
        "config = {\"configurable\": {\"thread_id\": \"1\"}}\n",
        "graph.invoke(\"こんにちは\", config)\n",
        "\n",
        "print(graph.get_state(config))"
      ]
    },
    {
      "cell_type": "code",
      "execution_count": null,
      "metadata": {
        "colab": {
          "base_uri": "https://localhost:8080/",
          "height": 410
        },
        "id": "Uch5fI-XXpJu",
        "outputId": "2d910bcd-ff31-4d39-cd26-c52a1ac27052"
      },
      "outputs": [
        {
          "name": "stdout",
          "output_type": "stream",
          "text": [
            "User (q/Q to quit): こんにちは\n"
          ]
        },
        {
          "ename": "AttributeError",
          "evalue": "'_AsyncGeneratorContextManager' object has no attribute 'get_next_version'",
          "output_type": "error",
          "traceback": [
            "\u001b[0;31m---------------------------------------------------------------------------\u001b[0m",
            "\u001b[0;31mAttributeError\u001b[0m                            Traceback (most recent call last)",
            "\u001b[0;32m<ipython-input-10-919329b4801a>\u001b[0m in \u001b[0;36m<cell line: 5>\u001b[0;34m()\u001b[0m\n\u001b[1;32m      9\u001b[0m         \u001b[0;32mbreak\u001b[0m\u001b[0;34m\u001b[0m\u001b[0;34m\u001b[0m\u001b[0m\n\u001b[1;32m     10\u001b[0m     \u001b[0moutput\u001b[0m \u001b[0;34m=\u001b[0m \u001b[0;32mNone\u001b[0m\u001b[0;34m\u001b[0m\u001b[0;34m\u001b[0m\u001b[0m\n\u001b[0;32m---> 11\u001b[0;31m     for output in graph.stream(\n\u001b[0m\u001b[1;32m     12\u001b[0m         \u001b[0;34m[\u001b[0m\u001b[0mHumanMessage\u001b[0m\u001b[0;34m(\u001b[0m\u001b[0mcontent\u001b[0m\u001b[0;34m=\u001b[0m\u001b[0muser\u001b[0m\u001b[0;34m)\u001b[0m\u001b[0;34m]\u001b[0m\u001b[0;34m,\u001b[0m \u001b[0mconfig\u001b[0m\u001b[0;34m=\u001b[0m\u001b[0mconfig\u001b[0m\u001b[0;34m,\u001b[0m \u001b[0mstream_mode\u001b[0m\u001b[0;34m=\u001b[0m\u001b[0;34m\"updates\"\u001b[0m\u001b[0;34m\u001b[0m\u001b[0;34m\u001b[0m\u001b[0m\n\u001b[1;32m     13\u001b[0m     ):\n",
            "\u001b[0;32m/usr/local/lib/python3.10/dist-packages/langgraph/pregel/__init__.py\u001b[0m in \u001b[0;36mstream\u001b[0;34m(self, input, config, stream_mode, output_keys, interrupt_before, interrupt_after, debug, subgraphs)\u001b[0m\n\u001b[1;32m   1246\u001b[0m                     \u001b[0;34m(\u001b[0m\u001b[0;34m(\u001b[0m\u001b[0;34m)\u001b[0m\u001b[0;34m,\u001b[0m \u001b[0;34m\"custom\"\u001b[0m\u001b[0;34m,\u001b[0m \u001b[0mc\u001b[0m\u001b[0;34m)\u001b[0m\u001b[0;34m\u001b[0m\u001b[0;34m\u001b[0m\u001b[0m\n\u001b[1;32m   1247\u001b[0m                 )\n\u001b[0;32m-> 1248\u001b[0;31m             with SyncPregelLoop(\n\u001b[0m\u001b[1;32m   1249\u001b[0m                 \u001b[0minput\u001b[0m\u001b[0;34m,\u001b[0m\u001b[0;34m\u001b[0m\u001b[0;34m\u001b[0m\u001b[0m\n\u001b[1;32m   1250\u001b[0m                 \u001b[0mstream\u001b[0m\u001b[0;34m=\u001b[0m\u001b[0mStreamProtocol\u001b[0m\u001b[0;34m(\u001b[0m\u001b[0mstream\u001b[0m\u001b[0;34m.\u001b[0m\u001b[0mput\u001b[0m\u001b[0;34m,\u001b[0m \u001b[0mstream_modes\u001b[0m\u001b[0;34m)\u001b[0m\u001b[0;34m,\u001b[0m\u001b[0;34m\u001b[0m\u001b[0;34m\u001b[0m\u001b[0m\n",
            "\u001b[0;32m/usr/local/lib/python3.10/dist-packages/langgraph/pregel/loop.py\u001b[0m in \u001b[0;36m__init__\u001b[0;34m(self, input, stream, config, store, checkpointer, nodes, specs, output_keys, stream_keys, check_subgraphs, debug)\u001b[0m\n\u001b[1;32m    677\u001b[0m         \u001b[0mself\u001b[0m\u001b[0;34m.\u001b[0m\u001b[0mstack\u001b[0m \u001b[0;34m=\u001b[0m \u001b[0mExitStack\u001b[0m\u001b[0;34m(\u001b[0m\u001b[0;34m)\u001b[0m\u001b[0;34m\u001b[0m\u001b[0;34m\u001b[0m\u001b[0m\n\u001b[1;32m    678\u001b[0m         \u001b[0;32mif\u001b[0m \u001b[0mcheckpointer\u001b[0m\u001b[0;34m:\u001b[0m\u001b[0;34m\u001b[0m\u001b[0;34m\u001b[0m\u001b[0m\n\u001b[0;32m--> 679\u001b[0;31m             \u001b[0mself\u001b[0m\u001b[0;34m.\u001b[0m\u001b[0mcheckpointer_get_next_version\u001b[0m \u001b[0;34m=\u001b[0m \u001b[0mcheckpointer\u001b[0m\u001b[0;34m.\u001b[0m\u001b[0mget_next_version\u001b[0m\u001b[0;34m\u001b[0m\u001b[0;34m\u001b[0m\u001b[0m\n\u001b[0m\u001b[1;32m    680\u001b[0m             \u001b[0mself\u001b[0m\u001b[0;34m.\u001b[0m\u001b[0mcheckpointer_put_writes\u001b[0m \u001b[0;34m=\u001b[0m \u001b[0mcheckpointer\u001b[0m\u001b[0;34m.\u001b[0m\u001b[0mput_writes\u001b[0m\u001b[0;34m\u001b[0m\u001b[0;34m\u001b[0m\u001b[0m\n\u001b[1;32m    681\u001b[0m         \u001b[0;32melse\u001b[0m\u001b[0;34m:\u001b[0m\u001b[0;34m\u001b[0m\u001b[0;34m\u001b[0m\u001b[0m\n",
            "\u001b[0;31mAttributeError\u001b[0m: '_AsyncGeneratorContextManager' object has no attribute 'get_next_version'"
          ]
        }
      ],
      "source": [
        "import uuid\n",
        "from langchain_core.messages import HumanMessage\n",
        "\n",
        "config = {\"configurable\": {\"thread_id\": str(uuid.uuid4())}}\n",
        "while True:\n",
        "    user = input(\"User (q/Q to quit): \")\n",
        "    if user in {\"q\", \"Q\"}:\n",
        "        print(\"AI: Byebye\")\n",
        "        break\n",
        "    output = None\n",
        "    for output in graph.stream(\n",
        "        [HumanMessage(content=user)], config=config, stream_mode=\"updates\"\n",
        "    ):\n",
        "        last_message = next(iter(output.values()))\n",
        "        last_message.pretty_print()\n",
        "\n",
        "    if output and \"prompt\" in output:\n",
        "        print(\"Done!\")\n"
      ]
    },
    {
      "cell_type": "markdown",
      "metadata": {
        "id": "1pY3qgq4XOQe"
      },
      "source": [
        "# Bingsearchを使った教材作成の試作"
      ]
    },
    {
      "cell_type": "markdown",
      "metadata": {
        "id": "eiO0hAP5XTif"
      },
      "source": [
        "上の結果からBingSearchを使い適宜情報補完を行いながらGPTによる生成を行う。\n",
        "処理手順としては\n",
        "1. GPTによる草案と検索クエリの生成\n",
        "2. 検索クエリによる情報補完を用いて1を行う\n",
        "3. 検索クエリの生成が終わる(情報が十分であると判断)または指定step数まで到達したらstop\n",
        "\n",
        "条件分岐にはlanggraphを用いる\n",
        "\n",
        "Bing searchのlimitは (3/s,1k/month)"
      ]
    },
    {
      "cell_type": "markdown",
      "metadata": {
        "id": "_GU40FEHKIbv"
      },
      "source": [
        "## BingSearchの1ループ生成\n",
        "structured_llmで検索クエリの作成をした後にBingSearchで保管情報を作成する"
      ]
    },
    {
      "cell_type": "code",
      "execution_count": null,
      "metadata": {
        "id": "cr5DL-bv5IfG"
      },
      "outputs": [],
      "source": [
        "from typing import List\n",
        "from langchain_core.messages import SystemMessage\n",
        "# 新バージョンのインポート\n",
        "from pydantic import BaseModel,Field\n",
        "from langchain_openai import ChatOpenAI\n",
        "from langchain_community.utilities import BingSearchAPIWrapper\n",
        "from langchain.callbacks import StdOutCallbackHandler\n",
        "class ExtractQueries(BaseModel):\n",
        "  \"\"\"Instructions on how to prompt the LLM.\"\"\"\n",
        "  search_queries: List[str] = Field(description=\"文章の内容を踏まえてよりよい教材にするため必要な情報\")\n",
        "  sentence: str = Field(description=\"前段階で生成された文章\")\n",
        "def search_bing(structured_result):\n",
        "    # ツールの定義\n",
        "  search = BingSearchAPIWrapper()\n",
        "  contexts = [search.run(content)for content in structured_result.search_queries ]\n",
        "  prompt = f\"\"\"\n",
        "  以下のcontextsを利用してsentenceの文脈補完を行ってください\n",
        "  contexts:{contexts}\n",
        "  sentence:{structured_result.sentence}\n",
        "  \"\"\"\n",
        "  return(prompt)\n",
        "\n",
        "def llm_response(prompt):\n",
        "  llm = ChatOpenAI(model=\"gpt-4o-mini\",temperature=0, verbose=True)\n",
        "  result = llm.invoke(prompt)\n",
        "  return(result.content)\n",
        "llm = ChatOpenAI(model=\"gpt-4o-mini\",temperature=0, verbose=True)\n",
        "structured_llm = llm.with_structured_output(ExtractQueries)\n",
        "\n",
        "def make_prompt(query):\n",
        "  return(query)\n",
        "chain = structured_llm | search_bing | llm_response | structured_llm"
      ]
    },
    {
      "cell_type": "code",
      "execution_count": null,
      "metadata": {
        "id": "VPCIp4c_gysY"
      },
      "outputs": [],
      "source": [
        "prompt =\"\"\"\n",
        "**Prompt Template:**\\n\\n\n",
        "あなたは、以下の「講義文章」を基に、不足している情報を特定し、検索エンジンでの検索クエリの形式で出力してください。\n",
        "出力は単語ではなく、文やフレーズの形で行ってください。\\n\\n\n",
        "**講義文章:** {text}\\n\\n\n",
        "**出力形式:** [不足している情報を検索クエリのように表現]\n",
        "\"\"\"\n",
        "lesson_sentence = \"\"\"\n",
        "'数学の単元である図形と方程式について\n",
        "軌跡とは、与えられた条件を満たす点が動いてできる図形（集合）のことを指します。\n",
        "例えば、定点から一定の距離にある点の軌跡は円になります。また、2点から等距離にある点の軌跡は、その2点を結ぶ線分の垂直二等分線になります。\n",
        "領域は、特定の条件を満たす点の集合を表し、通常は不等式によって定義されます。例えば、不等式 y < x + 1 を満たす点の集合は、座標平面上の特定の領域を形成します。\n",
        "軌跡と領域は、数学の問題において非常に重要な概念であり、特に受験数学では頻繁に出題されます。\n",
        "軌跡や領域の問題を解く際には、まず求めたい点の座標を設定し、与えられた条件を式に変換していくことが基本的なステップです。\n",
        "これにより、図形の方程式を導き出し、最終的にはその図形の性質を理解することが求められます。'\n",
        "\"\"\""
      ]
    },
    {
      "cell_type": "code",
      "execution_count": null,
      "metadata": {
        "colab": {
          "base_uri": "https://localhost:8080/"
        },
        "id": "raddXTbLhXFg",
        "outputId": "f04eb3ec-864b-4e9b-c971-f00b1f4ae04f"
      },
      "outputs": [
        {
          "data": {
            "text/plain": [
              "ExtractQueries(search_queries=['軌跡の定義と例について', '領域の定義と不等式の例', '受験数学における軌跡と領域の問題の出題傾向', '図形の方程式の導出方法', '軌跡と領域の性質についての詳細', '数学の問題解決における基本的なステップの具体例'], sentence=\"'数学の単元である図形と方程式について\\n軌跡とは、与えられた条件を満たす点が動いてできる図形（集合）のことを指します。\\n例えば、定点から一定の距離にある点の軌跡は円になります。また、2点から等距離にある点の軌跡は、その2点を結ぶ線分の垂直二等分線になります。\\n領域は、特定の条件を満たす点の集合を表し、通常は不等式によって定義されます。例えば、不等式 y < x + 1 を満たす点の集合は、座標平面上の特定の領域を形成します。\\n軌跡と領域は、数学の問題において非常に重要な概念であり、特に受験数学では頻繁に出題されます。\\n軌跡や領域の問題を解く際には、まず求めたい点の座標を設定し、与えられた条件を式に変換していくことが基本的なステップです。\\nこれにより、図形の方程式を導き出し、最終的にはその図形の性質を理解することが求められます。'\")"
            ]
          },
          "execution_count": 27,
          "metadata": {},
          "output_type": "execute_result"
        }
      ],
      "source": [
        "structured_llm.invoke([SystemMessage(content=prompt.format(text=lesson_sentence))])"
      ]
    },
    {
      "cell_type": "code",
      "execution_count": null,
      "metadata": {
        "colab": {
          "base_uri": "https://localhost:8080/"
        },
        "id": "rG2b6Tgd7oGD",
        "outputId": "2604f1c2-b37f-485d-cf0a-f008d2b343d4"
      },
      "outputs": [
        {
          "data": {
            "text/plain": [
              "ExtractQueries(search_queries=['直線の方程式', '円の方程式', '直線と円の位置関係', '円と円の位置関係', '内分点', '外分点', '図形の計量', '座標平面上の図形', '図形と方程式の関係', '数学の他の分野への応用'], sentence='数学の単元である図形と方程式について詳しく教えてください。今回は高校2年生の数学の中でも特にこの分野に焦点を当てて、基本的な概念から応用までをしっかりと解説していきます。図形と方程式では、方程式とxy平面上のグラフを行き来しながら、直線や円の方程式を学び、図形の性質を数式で表現する方法を習得します。\\n\\nまず、直線の方程式について学び、与えられた条件から直線の方程式を求める方法を理解します。次に、円の方程式を扱い、直線と円の位置関係や、円と円の位置関係を方程式の形で理解することが重要です。また、内分点や外分点の概念を通じて、図形の計量に関する計算手法を学びます。\\n\\nこの単元では、図形を座標平面上で扱うことで、ひらめきに頼らずに機械的な計算で長さや角度などの図形量を求めることが可能になります。さらに、図形と方程式の関係を深く理解することで、数学の他の分野への応用も広がります。根底からじっくりと学び、図形と方程式についての理解を深めていきましょう。')"
            ]
          },
          "execution_count": 28,
          "metadata": {},
          "output_type": "execute_result"
        }
      ],
      "source": [
        "chain.invoke(\"数学の単元である図形と方程式について詳しく教えて\")"
      ]
    },
    {
      "cell_type": "code",
      "execution_count": null,
      "metadata": {
        "colab": {
          "base_uri": "https://localhost:8080/"
        },
        "id": "SKXLi102_lAO",
        "outputId": "fffa18a4-541b-4ca9-a627-a2c6fdd67fe2"
      },
      "outputs": [
        {
          "name": "stderr",
          "output_type": "stream",
          "text": [
            "<ipython-input-40-d9d42e41636b>:25: LangChainDeprecationWarning: The function `initialize_agent` was deprecated in LangChain 0.1.0 and will be removed in 1.0. Use :meth:`~Use new agent constructor methods like create_react_agent, create_json_agent, create_structured_chat_agent, etc.` instead.\n",
            "  agent = initialize_agent(\n",
            "<ipython-input-40-d9d42e41636b>:37: LangChainDeprecationWarning: The method `Chain.run` was deprecated in langchain 0.1.0 and will be removed in 1.0. Use :meth:`~invoke` instead.\n",
            "  response = agent.run(user_input)\n"
          ]
        },
        {
          "name": "stdout",
          "output_type": "stream",
          "text": [
            "\n",
            "\n",
            "\u001b[1m> Entering new AgentExecutor chain...\u001b[0m\n",
            "\u001b[32;1m\u001b[1;3mアルベルト・アインシュタインの生涯についての情報を集める必要があります。彼の生涯は非常に多岐にわたるため、重要な出来事や業績を知ることが重要です。まずは、彼の生涯に関する基本的な情報を検索してみます。\n",
            "\n",
            "Action: BingSearch  \n",
            "Action Input: アルベルト・アインシュタインの生涯  \n",
            "\u001b[0m\n",
            "Observation: \u001b[36;1m\u001b[1;3m受賞者. 1921年. ノーベル物理学賞. 光電効果<b>の</b>法則<b>の</b>発見等. <b>アルベルト</b>・<b>アインシュタイン</b>[ 注釈 1 ] （独 : Albert <b>Einstein</b>[ 注釈 2 ][ 注釈 3 ][ 1 ][ 2 ] 、 1879年 3月14日 - 1955年 4月18日）は、 ドイツ 生まれ<b>の</b> 理論物理学者 、 社会主義者 [ 3 ]。. ユダヤ人。. スイス ... <b>アインシュタイン</b>とはどんな人？. <b>生涯</b>を紹介【名言や相対性理論、脳やIQも解説】. <b>アインシュタイン</b>は相対性理論を証明し、ノーベル物理学賞を受賞した科学者です。. 舌を出している写真で知っている方も多いでしょう。. 「20世紀最大<b>の</b>天才」とも称さ ... <b>アルベルト</b>・<b>アインシュタイン</b>、20世紀最大<b>の</b>天才科学者<b>の</b>驚くべき<b>生涯</b>と業績に迫ります！【タイムテーブル】0:00 オープニング01:09 本編 ... 相対性理論<b>の</b>創始者で、20世紀最大<b>の</b>物理学者として知られる「<b>アインシュタイン</b>」<b>の</b>人物像や<b>生涯</b>をみていきましょう。 優等生ではなかった、<b>アインシュタイン</b>. <b>アルベルト</b>・<b>アインシュタイン</b>は、1879年3月14日にドイツで生まれました。 <b>アルベルト</b>・<b>アインシュタイン</b>と聞くと、相対性理論や「E=mc2」が思い浮かびますが、実際には「どんな人物だった<b>の</b>か詳しく知らない」という人も多い<b>の</b>ではないでしょうか。今回はそんな<b>アインシュタインの生涯</b>と、偉業<b>の</b>数々をできるだけわかりやすく解説してまいります。 All text is available under the terms of the GNU Free Documentation License. この記事は、ウィキペディア<b>のアルベルト</b>・<b>アインシュタイン</b> (改訂履歴)<b>の</b>記事を複製、再配布したものにあたり、GNU Free Documentation Licenseというライセンス<b>の</b>下で提供されています。 Weblio辞書に掲載されているウィキペディア<b>の</b>記事も ... 本記事では、<b>アインシュタインの生涯</b>や名言、功績、人物エピソードなどを紹介し、世界<b>の</b>歴史を変えた天才<b>の</b>人物像に迫ります。 ... <b>アルベルト</b>・<b>アインシュタイン</b>は1879年3月14日、ヘルマン・<b>アインシュタイン</b>と妻パウリーネ<b>の</b>長男として、ドイツ南部<b>の</b> ... アルバート・<b>アインシュタインの</b>初期<b>の</b>仕事. 1901年、アルバート<b>アインシュタイン</b>は、物理学と数学<b>の</b>教師として卒業証書を取得しました。. 教職を見つけることができなかったため、彼はスイス特許庁に勤務しました。. 彼は1905年に博士号を取得し、同じ ... <b>アインシュタイン</b>(<b>アルベルト</b>・<b>アインシュタイン</b>)は、相対性理論などを提唱した世界的に有名な天才物理学者であり、ノーベル物理学賞を受賞 ... アルバート・<b>アインシュタインの</b>伝記、理論物理学者. 20世紀に生きたドイツ生まれ<b>の</b>理論物理学者であるアルバート<b>アインシュタイン</b>（1879年3月14日-1955年4月18日）は、科学的思考に革命をもたらしました。. 相対性理論を発展させた<b>アインシュタイン</b>は ...\u001b[0m\n",
            "Thought:\u001b[32;1m\u001b[1;3mアルベルト・アインシュタインの生涯についての情報が得られました。彼は1879年3月14日にドイツで生まれ、1955年4月18日に亡くなりました。アインシュタインは理論物理学者として知られ、特に相対性理論の創始者として有名です。彼は1905年に博士号を取得し、その後スイス特許庁で働きながら数々の重要な理論を発表しました。1921年にはノーベル物理学賞を受賞し、光電効果の法則の発見が評価されました。アインシュタインは「20世紀最大の天才」とも称され、彼の業績は科学の発展に大きな影響を与えました。\n",
            "\n",
            "Final Answer: アルベルト・アインシュタインは1879年3月14日にドイツで生まれ、1955年4月18日に亡くなった理論物理学者です。相対性理論の創始者であり、1921年にノーベル物理学賞を受賞しました。彼の業績は科学に革命をもたらし、20世紀最大の天才と称されています。\u001b[0m\n",
            "\n",
            "\u001b[1m> Finished chain.\u001b[0m\n",
            "アルベルト・アインシュタインは1879年3月14日にドイツで生まれ、1955年4月18日に亡くなった理論物理学者です。相対性理論の創始者であり、1921年にノーベル物理学賞を受賞しました。彼の業績は科学に革命をもたらし、20世紀最大の天才と称されています。\n"
          ]
        }
      ],
      "source": [
        "from langchain.agents import initialize_agent, Tool\n",
        "from langchain_openai import ChatOpenAI\n",
        "from langchain_community.utilities import BingSearchAPIWrapper\n",
        "from langchain.callbacks import StdOutCallbackHandler\n",
        "\n",
        "# LLMの初期化\n",
        "llm = ChatOpenAI(model=\"gpt-4o-mini\", temperature=0, verbose=True)\n",
        "\n",
        "# Bing検索ツールの定義\n",
        "def search_bing(query: str) -> str:\n",
        "    \"\"\"指定された検索クエリでBing検索を行い、結果を返します。\"\"\"\n",
        "    search = BingSearchAPIWrapper()\n",
        "    return search.run(query)\n",
        "\n",
        "search_tool = Tool(\n",
        "    name=\"BingSearch\",\n",
        "    func=search_bing,\n",
        "    description=\"指定されたクエリでBing検索を行い、結果を取得します。\"\n",
        ")\n",
        "\n",
        "# ツールのリストを作成\n",
        "tools = [search_tool]\n",
        "\n",
        "# エージェントの初期化\n",
        "agent = initialize_agent(\n",
        "    tools=tools,\n",
        "    llm=llm,\n",
        "    agent=\"zero-shot-react-description\",\n",
        "    verbose=True,\n",
        "    handle_parsing_errors=True\n",
        ")\n",
        "\n",
        "# ユーザーからの入力\n",
        "user_input = \"アルベルト・アインシュタインの生涯について教えてください。\"\n",
        "\n",
        "# エージェントの実行\n",
        "response = agent.run(user_input)\n",
        "\n",
        "# 結果の表示\n",
        "print(response)\n"
      ]
    },
    {
      "cell_type": "markdown",
      "metadata": {
        "id": "qGHcF-JLKNtL"
      },
      "source": [
        "## プロンプト最適化Agentの作成\n",
        "プロンプト技術はLLMの能力を引き出す上で重要になる。  \n",
        "ここで、プロンプトを目的に合わせて最適化するためにAgentの構築を行う。"
      ]
    },
    {
      "cell_type": "code",
      "execution_count": null,
      "metadata": {
        "id": "6D5MOOYeKRTf"
      },
      "outputs": [],
      "source": [
        "from langchain_core.messages import AIMessage, HumanMessage, ToolMessage\n",
        "\n",
        "# プロンプト生成のための新しいシステムプロンプト\n",
        "prompt_system = \"\"\"Based on the following requirements, write a good prompt template:\n",
        "\n",
        "{reqs}\"\"\"\n",
        "\n",
        "class PromptInstructions(BaseModel):\n",
        "    \"\"\"Instructions on how to prompt the LLM.\"\"\"\n",
        "    objective: str\n",
        "    variables: List[str]\n",
        "    constraints: List[str]\n",
        "    requirements: List[str]\n",
        "llm_with_tool = llm.bind_tools([PromptInstructions])\n",
        "\n",
        "def get_prompt_messages(message):\n",
        "  if message.additional_kwargs[\"tool_calls\"][0][\"function\"]:\n",
        "    tool_call = message.additional_kwargs[\"tool_calls\"][0][\"function\"][\"arguments\"]\n",
        "    return [SystemMessage(content=prompt_system.format(reqs=tool_call))]\n",
        "prompt_chain = llm_with_tool | get_prompt_messages | llm"
      ]
    },
    {
      "cell_type": "code",
      "execution_count": null,
      "metadata": {
        "id": "PusuUZEcKxA4"
      },
      "outputs": [],
      "source": [
        "prompt = \"\"\"\n",
        "- プロンプトの目的: 改善案を踏まえながら解説文の洗練を行う\n",
        "- プロンプトテンプレートに渡す変数: 解説文、改善文\n",
        "- 出力に対する制約（やってはいけないこと）: 改善文、解説文の一部分のみを取り扱わないこと。本の解説文から大きく逸脱した内容は加えないこと。\n",
        "- 出力に対する要件（守らなければならないこと）: MarkDown形式で解説を行ってください。図表の情報を含むこと。step by stepで分かりやすく解説してください。\n",
        "\"\"\"\n",
        "result = prompt_chain.invoke(prompt)\n"
      ]
    },
    {
      "cell_type": "code",
      "execution_count": null,
      "metadata": {
        "colab": {
          "base_uri": "https://localhost:8080/",
          "height": 127
        },
        "id": "zRjrs6_SOqPa",
        "outputId": "826cfd2f-567c-4e75-95c0-fa30e900fe2f"
      },
      "outputs": [
        {
          "data": {
            "application/vnd.google.colaboratory.intrinsic+json": {
              "type": "string"
            },
            "text/plain": [
              "'# 解説文の洗練に関するプロンプトテンプレート\\n\\n## 目的\\n改善案を踏まえながら解説文を洗練する。\\n\\n## 変数\\n- **解説文**: 現在の解説文の内容\\n- **改善文**: 提案された改善案\\n\\n## 制約条件\\n1. 改善文および解説文の一部分のみを取り扱わないこと。\\n2. 本の解説文から大きく逸脱した内容は加えないこと。\\n\\n## 要件\\n- MarkDown形式で解説を行ってください。\\n- 図表の情報を含むこと。\\n- Step by stepで分かりやすく解説してください。\\n\\n---\\n\\n## プロンプト例\\n\\n以下の情報をもとに、解説文を洗練してください。\\n\\n### 解説文\\n```\\nここに現在の解説文を記入してください。\\n```\\n\\n### 改善文\\n```\\nここに提案された改善案を記入してください。\\n```\\n\\n### 解説の形式\\n- **MarkDown形式**で記述してください。\\n- 図表を含め、視覚的に理解しやすい内容にしてください。\\n- 各ステップを明確に分けて、誰でも理解できるように解説してください。\\n\\n---\\n\\nこのテンプレートを使用して、解説文の改善を行ってください。'"
            ]
          },
          "execution_count": 123,
          "metadata": {},
          "output_type": "execute_result"
        }
      ],
      "source": [
        "result.content"
      ]
    },
    {
      "cell_type": "code",
      "execution_count": null,
      "metadata": {
        "id": "Nm8QDWEOdtpW"
      },
      "outputs": [],
      "source": [
        "result = chain.invoke(\"数学の単元である軌跡と領域について詳しく教えて\")"
      ]
    },
    {
      "cell_type": "code",
      "execution_count": null,
      "metadata": {
        "colab": {
          "base_uri": "https://localhost:8080/"
        },
        "id": "h27Rr9_KPXvi",
        "outputId": "52f061af-ec2e-4381-8aeb-09a1c936ac3b"
      },
      "outputs": [
        {
          "name": "stderr",
          "output_type": "stream",
          "text": [
            "<ipython-input-81-6187f8844100>:47: LangChainDeprecationWarning: The method `BaseChatModel.__call__` was deprecated in langchain-core 0.1.7 and will be removed in 1.0. Use :meth:`~invoke` instead.\n",
            "  llm([SystemMessage(content=prompt)])\n"
          ]
        },
        {
          "data": {
            "text/plain": [
              "AIMessage(content='### 講義文章\\n物理学の単元である運動の法則について詳しく教えてください。運動の法則は、物体の運動を理解するための基本的な原則です。ニュートンの運動の法則には、第一法則、第二法則、第三法則があり、それぞれ異なる運動の側面を説明しています。第一法則は慣性の法則であり、物体は外部から力が加わらない限り、その運動状態を保ち続けることを示しています。第二法則は、物体に加わる力とその物体の加速度の関係を示し、F=maという式で表されます。第三法則は作用・反作用の法則であり、ある物体が別の物体に力を加えると、同時にその物体も等しい大きさで逆向きの力を加えることを示しています。\\n\\n### 解説\\n\\n1. **ステップ1: 基本概念の理解**\\n   - まず、運動の法則についての基本的な考え方を説明します。\\n   - 運動の法則は、物体がどのように動くかを理解するためのルールです。特に、ニュートンの運動の法則は、物理学の基礎を成す重要な原則です。\\n\\n2. **ステップ2: 各法則の詳細な説明**\\n   - **第一法則（慣性の法則）**: \\n     - 物体は、外から力が加わらない限り、静止しているか、一定の速度で直線運動を続けるという法則です。\\n     - 例: 車が急に止まると、乗っている人は前に投げ出されることがあります。これは、体が運動を続けようとするためです。\\n   - **第二法則（F=ma）**: \\n     - 物体に加わる力（F）は、その物体の質量（m）と加速度（a）の積に等しいという法則です。\\n     - 例: 重い物体を押すとき、軽い物体よりも大きな力が必要です。これは、質量が大きいほど加速度を得るのが難しいからです。\\n   - **第三法則（作用・反作用の法則）**: \\n     - ある物体が別の物体に力を加えると、同時にその物体も等しい大きさで逆向きの力を加えるという法則です。\\n     - 例: ボールを壁に投げると、ボールは壁に力を加え、壁もボールに同じ力を加え返します。\\n\\n3. **ステップ3: 図表の活用**\\n   - 各法則を視覚的に理解するために、図を用います。\\n   - ![運動の法則の図](https://example.com/motion-laws-diagram)  \\n     *この図は、各法則の例を示しています。*\\n\\n4. **ステップ4: まとめ**\\n   - この講義を通じて、運動の法則が物体の動きにどのように影響するかを理解できたと思います。特に、ニュートンの法則は日常生活の中でも多くの場面で見られる重要な原則です。', additional_kwargs={'refusal': None}, response_metadata={'token_usage': {'completion_tokens': 793, 'prompt_tokens': 672, 'total_tokens': 1465, 'completion_tokens_details': {'reasoning_tokens': 0}, 'prompt_tokens_details': {'cached_tokens': 0}}, 'model_name': 'gpt-4o-mini-2024-07-18', 'system_fingerprint': 'fp_f85bea6784', 'finish_reason': 'stop', 'logprobs': None}, id='run-978c230c-ddb9-4bf9-b855-350331cd7790-0', usage_metadata={'input_tokens': 672, 'output_tokens': 793, 'total_tokens': 1465})"
            ]
          },
          "execution_count": 81,
          "metadata": {},
          "output_type": "execute_result"
        }
      ],
      "source": [
        "prompt = f\"\"\"\n",
        "# Prompt Template\n",
        "\n",
        "## Objective\n",
        "あなたは、難しい講義内容を中高生にも分かりやすく解説する役割を担っています。\n",
        "\n",
        "## Variables\n",
        "- **講義文章**: 解説するための講義の一部分を提供します。\n",
        "\n",
        "## Constraints\n",
        "- 講義文章の一部分のみ解説しないでください。\n",
        "\n",
        "## Requirements\n",
        "- マークダウン形式で解説を行ってください。\n",
        "- Step by Stepで分かりやすく解説してください。\n",
        "- 図表を含めて、視覚的に理解しやすくしてください。\n",
        "\n",
        "---\n",
        "\n",
        "## 解説の例\n",
        "\n",
        "### 講義文章\n",
        "{result.sentence}\n",
        "\n",
        "### 解説\n",
        "\n",
        "1. **ステップ1: 基本概念の理解**\n",
        "   - まず、講義の中で重要な基本概念を説明します。\n",
        "   - 例: 「この講義では、○○について学びます。○○とは、...」\n",
        "\n",
        "2. **ステップ2: 詳細な説明**\n",
        "   - 次に、基本概念を基にして詳細な説明を行います。\n",
        "   - 例: 「○○の具体的な例として、...」\n",
        "\n",
        "3. **ステップ3: 図表の活用**\n",
        "   - 理解を深めるために、図表を用いて視覚的に説明します。\n",
        "   - ![図表の説明](URL)\n",
        "\n",
        "4. **ステップ4: まとめ**\n",
        "   - 最後に、講義の内容を簡潔にまとめます。\n",
        "   - 例: 「この講義を通じて、○○の重要性が理解できたと思います。」\n",
        "\n",
        "---\n",
        "\n",
        "このテンプレートを使用して、指定された講義文章を中高生にも分かりやすく解説してください。\n",
        "\"\"\"\n",
        "llm([SystemMessage(content=prompt)])"
      ]
    },
    {
      "cell_type": "code",
      "execution_count": null,
      "metadata": {
        "colab": {
          "base_uri": "https://localhost:8080/"
        },
        "id": "9wyU5B0EdlAb",
        "outputId": "16e3b0d8-ec4e-46ea-d0c6-aca5b7217ddc"
      },
      "outputs": [
        {
          "data": {
            "text/plain": [
              "ExtractQueries(search_queries=['軌跡の定義', '領域の定義', '軌跡の例', '領域の例', '軌跡と領域の関係', '受験数学における軌跡と領域の重要性', '軌跡と領域の問題の解き方', '最大値と最小値の求め方'], sentence='数学の単元である軌跡と領域について詳しく教えてください。軌跡とは、ある条件を満たす点の集合であり、特定の図形を形成します。例えば、定点から一定の距離にある点の軌跡は円になります。また、2点から等距離にある点の軌跡は、その2点を結ぶ線分の垂直二等分線です。\\n\\n一方、領域は特定の条件を満たす点の集合であり、通常は不等式で表現されます。領域の問題では、与えられた条件を図示し、目的関数を用いて最大値や最小値を求めることが重要です。これらの概念は、数学の問題を解く上で非常に重要であり、特に受験数学では頻出のテーマです。\\n\\n軌跡と領域の問題を解く際には、まず求めたい点の座標を設定し、条件を式に変換していくことが基本的なアプローチです。これにより、図形や方程式の関係を理解し、問題を解決するための手助けとなります。')"
            ]
          },
          "execution_count": 80,
          "metadata": {},
          "output_type": "execute_result"
        }
      ],
      "source": [
        "result"
      ]
    },
    {
      "cell_type": "markdown",
      "metadata": {
        "id": "rKEG7GyIIGkq"
      },
      "source": [
        "# 教材スクリプト自動作成の実装"
      ]
    },
    {
      "cell_type": "markdown",
      "metadata": {
        "id": "Ge5CpLlfiaLp"
      },
      "source": [
        "## Bingsearchのループ実装\n",
        "最初はLanggraphによる条件分岐を想定したが、普通にfor文回すことによって対処ができそうなため、こちらを採用した。"
      ]
    },
    {
      "cell_type": "markdown",
      "metadata": {
        "id": "Bu3TRoAu4zIv"
      },
      "source": [
        "## promptやGPT-o1-previewによって生成した講義テストの草案"
      ]
    },
    {
      "cell_type": "code",
      "execution_count": null,
      "metadata": {
        "id": "vck22qgpii7p"
      },
      "outputs": [],
      "source": [
        "lesson_sentence = \"\"\"\n",
        "数学の重要な単元である「**図形と方程式**」について、詳しく解説していきます。この分野は高校2年生の数学の中でも特に重要であり、幾何学（図形の形状や性質を研究する分野）と代数学（数式や方程式を扱う分野）を結びつける役割を果たします。この単元を深く理解することで、数学全体の理解が深まり、応用力も向上します。\n",
        "\n",
        "---\n",
        "\n",
        "### **図形と方程式の基本概念**\n",
        "\n",
        "「図形と方程式」では、**座標平面**（通常は \\( x \\)-軸と \\( y \\)-軸からなる二次元平面）上で図形を扱います。図形を方程式で表現することで、その性質を数式的に解析できます。これにより、直感やひらめきに頼らず、計算によって図形の問題を解くことが可能になります。\n",
        "\n",
        "---\n",
        "\n",
        "### **1. 直線の方程式**\n",
        "\n",
        "まず、**直線の方程式**について学びます。直線は最も基本的な図形の一つであり、その方程式を理解することは他の複雑な図形を扱う基礎となります。\n",
        "\n",
        "#### **直線の方程式の形式**\n",
        "\n",
        "- **傾きと切片による形式（傾き切片方程式）**：\n",
        "  \\[ y = mx + b \\]\n",
        "  - \\( m \\) は直線の**傾き**（勾配）を表し、\\( b \\) は \\( y \\)-軸との交点（**切片**）を表します。\n",
        "  - **例**：傾きが 2 で \\( y \\)-切片が -3 の直線は、\\( y = 2x - 3 \\) となります。\n",
        "\n",
        "- **点と傾きを用いた形式（点傾き方程式）**：\n",
        "  \\[ y - y_1 = m(x - x_1) \\]\n",
        "  - \\( (x_1, y_1) \\) は直線上の一点で、\\( m \\) は傾きです。\n",
        "  - **例**：点 \\( (2, 5) \\) を通り、傾きが -1 の直線は、\\( y - 5 = -1(x - 2) \\) となります。\n",
        "\n",
        "- **2点を通る直線の方程式**：\n",
        "  - 2つの点 \\( (x_1, y_1) \\)、\\( (x_2, y_2) \\) を通る直線の傾きは、\n",
        "    \\[ m = \\frac{y_2 - y_1}{x_2 - x_1} \\]\n",
        "  - この傾きを用いて、上記の点傾き方程式を作成します。\n",
        "\n",
        "#### **直線の重要な概念**\n",
        "\n",
        "- **平行**：2つの直線が平行である条件は、傾きが等しいことです（\\( m_1 = m_2 \\)）。\n",
        "- **垂直**：2つの直線が垂直である条件は、傾きの積が -1 になることです（\\( m_1 \\times m_2 = -1 \\)）。\n",
        "\n",
        "---\n",
        "\n",
        "### **2. 円の方程式**\n",
        "\n",
        "次に、**円の方程式**について学びます。円は特定の点（中心）から一定の距離（半径）にある点の集合として定義されます。\n",
        "\n",
        "#### **円の方程式の形式**\n",
        "\n",
        "- **標準形**：\n",
        "  \\[ (x - h)^2 + (y - k)^2 = r^2 \\]\n",
        "  - \\( (h, k) \\) は円の**中心**、\\( r \\) は**半径**です。\n",
        "  - **例**：中心が \\( (3, -2) \\)、半径が 5 の円は、\n",
        "    \\[ (x - 3)^2 + (y + 2)^2 = 25 \\]\n",
        "\n",
        "- **一般形**：\n",
        "  \\[ x^2 + y^2 + Dx + Ey + F = 0 \\]\n",
        "  - この形式を標準形に変換するには、**平方完成**を行います。\n",
        "\n",
        "#### **直線と円の位置関係**\n",
        "\n",
        "- **交点がある（2点で交わる）**：連立方程式を解いたときに、異なる2つの実数解が得られる場合。\n",
        "- **接する（1点で交わる）**：判別式がゼロになる場合。\n",
        "- **交わらない（共通点がない）**：判別式が負の値になる場合。\n",
        "\n",
        "---\n",
        "\n",
        "### **3. 内分点と外分点**\n",
        "\n",
        "**内分点**と**外分点**は、線分を一定の比で分割する点です。\n",
        "\n",
        "#### **内分点の公式**\n",
        "\n",
        "- 点 \\( A(x_1, y_1) \\) と点 \\( B(x_2, y_2) \\) を \\( m:n \\) に内分する点 \\( P(x, y) \\) は、\n",
        "  \\[ x = \\frac{nx_1 + mx_2}{m + n}, \\quad y = \\frac{ny_1 + my_2}{m + n} \\]\n",
        "\n",
        "#### **外分点の公式**\n",
        "\n",
        "- 同じ点 \\( A \\) と \\( B \\) を \\( m:n \\) に外分する点 \\( Q(x, y) \\) は、\n",
        "  \\[ x = \\frac{-nx_1 + mx_2}{m - n}, \\quad y = \\frac{-ny_1 + my_2}{m - n} \\]\n",
        "\n",
        "**例**：点 \\( A(1, 2) \\) と点 \\( B(5, 6) \\) を 2:1 に内分する点 \\( P \\) は、\n",
        "\\[\n",
        "x = \\frac{1 \\times 1 + 2 \\times 5}{2 + 1} = \\frac{1 + 10}{3} = \\frac{11}{3}, \\quad\n",
        "y = \\frac{1 \\times 2 + 2 \\times 6}{2 + 1} = \\frac{2 + 12}{3} = \\frac{14}{3}\n",
        "\\]\n",
        "\n",
        "---\n",
        "\n",
        "### **4. 図形の計量と計算手法**\n",
        "\n",
        "座標平面上で図形を扱うことで、以下のような計算が可能になります。\n",
        "\n",
        "#### **2点間の距離**\n",
        "\n",
        "- 点 \\( A(x_1, y_1) \\) と点 \\( B(x_2, y_2) \\) の間の距離 \\( d \\) は、\n",
        "  \\[ d = \\sqrt{(x_2 - x_1)^2 + (y_2 - y_1)^2} \\]\n",
        "\n",
        "**例**：点 \\( A(1, 2) \\) と点 \\( B(4, 6) \\) の距離は、\n",
        "\\[\n",
        "d = \\sqrt{(4 - 1)^2 + (6 - 2)^2} = \\sqrt{9 + 16} = \\sqrt{25} = 5\n",
        "\\]\n",
        "\n",
        "#### **線分の中点**\n",
        "\n",
        "- 中点 \\( M(x, y) \\) は、\n",
        "  \\[ x = \\frac{x_1 + x_2}{2}, \\quad y = \\frac{y_1 + y_2}{2} \\]\n",
        "\n",
        "---\n",
        "\n",
        "### **5. 図形と方程式の応用**\n",
        "\n",
        "**図形と方程式**の知識は、以下のような分野で応用されます。\n",
        "\n",
        "- **解析幾何学**：より複雑な図形や曲線（放物線、楕円、双曲線など）を方程式で表し、その性質を研究します。\n",
        "- **物理学**：運動の軌跡、力のベクトル解析、波の伝播などに応用されます。\n",
        "- **工学**：建築物や機械部品の設計、ロボット工学などで必要となる座標計算。\n",
        "\n",
        "---\n",
        "\n",
        "### **6. 学習のポイントと進め方**\n",
        "\n",
        "- **基本原理の理解**：公式や方程式をただ暗記するのではなく、その導出過程や意味を理解しましょう。\n",
        "- **グラフの描画**：手を動かして実際にグラフを描くことで、図形と方程式の対応関係を視覚的に理解できます。\n",
        "- **問題演習**：多種多様な問題を解くことで、理解を深め、応用力を養います。\n",
        "- **疑問点の解消**：わからない点はそのままにせず、教科書や参考書、教師に質問して解決しましょう。\n",
        "\n",
        "---\n",
        "\n",
        "### **7. まとめ**\n",
        "\n",
        "「図形と方程式」は、数学の基礎を形成する重要な分野です。座標平面上で図形を扱うことで、計算によって図形の問題を解くことができ、他の数学的分野や理科系科目にも応用が広がります。基礎からじっくりと学び、問題演習を通して理解を深めていきましょう。\n",
        "\n",
        "**おすすめの学習リソース**：\n",
        "\n",
        "- 高校数学の教科書（数学II・B）\n",
        "- 図形と方程式に特化した問題集や参考書\n",
        "- オンライン学習サイトや動画解説\n",
        "\n",
        "---\n",
        "\n",
        "このように、図形と方程式の関係を深く理解することで、数学的な思考力と問題解決能力が向上します。継続的な学習と練習を通じて、確かな実力を身につけてください。\n",
        "\"\"\"\n",
        "critic_prompt = \"\"\"\n",
        "指定された解説文を分析し、必要な要素が欠けている部分を特定し指摘してください。\n",
        "\n",
        "解説文: {critic}\n",
        "# Steps\n",
        "\n",
        "1. **理解と分析**: 提供された解説文を丁寧に読み、基本的な理解を得てください。\n",
        "2. **要素の特定**: 解説文が持つべき構成要素をリスト化します。これには主要なポイント、裏付けとなる証拠、結論など一般的な要素が含まれます。\n",
        "3. **欠如の評価**: 上記の要素が文章内に存在するかを評価し、欠けている要素を特定します。\n",
        "4. **指摘と記述**: 足りない要素を具体的に指摘し、どのように補完すべきか簡単に説明します。\n",
        "\n",
        "# Output Format\n",
        "\n",
        "- 各分析を行った要素に対して:\n",
        "   - 欠けている要素の説明: 短い文章\n",
        "   - 具体的な指摘内容: 箇条書き\n",
        "\n",
        "# Examples\n",
        "\n",
        "**Input:**\n",
        "「この植物は成長が早いです。」\n",
        "\n",
        "**Output:**\n",
        "- 背景情報の不足:\n",
        "  - この植物がどのような環境で育つのかが不明です。\n",
        "- 成長の具体例の不足:\n",
        "  - どれくらいの期間で成長するのかが書かれていません。\n",
        "\"\"\"\n",
        "refine_prompt = \"\"\"\n",
        "# 解説文改善のためのプロンプトテンプレート\n",
        "\n",
        "## 目的\n",
        "\n",
        "改善提案をもとに、解説文をより洗練されたものに仕上げる。\n",
        "\n",
        "## 指示\n",
        "\n",
        "以下の変数を使用して、解説文を改善してください。\n",
        "\n",
        "- **解説文**: {text}\n",
        "- **改善提案**: {critic}\n",
        "\n",
        "## 制約条件\n",
        "\n",
        "1. 解説文や改善提案の一部分だけに焦点を当てず、全体を通して改善を行うこと。\n",
        "2. 元の解説文から大きく逸脱する内容を追加しないこと。\n",
        "\n",
        "## 要件\n",
        "\n",
        "- **Markdown形式**で解説文を作成してください。\n",
        "- 図や表を含め、視覚的に理解しやすい内容にしてください。\n",
        "- ステップごとに明確に分け、誰にでも分かりやすい解説を提供してください。\n",
        "- 可能な限り詳細に説明してください。\n",
        "- 文章の長さは元の解説文とほぼ同じになるようにしてください。\n",
        "\n",
        "---\n",
        "\n",
        "このテンプレートを使用して、解説文の改善を行ってください。\n",
        "\"\"\"\n",
        "extract_prompt = \"\"\"\n",
        "**Prompt Template:**\\n\\n\n",
        "あなたは、以下の「講義文章」を基に、不足している情報を特定し、検索エンジンでの検索クエリの形式で出力してください。\n",
        "出力は単語ではなく、文やフレーズの形で行ってください。\\n\\n\n",
        "**講義文章:** {contexts}\\n\\n\n",
        "**出力形式:** [不足している情報を検索クエリのように表現]\n",
        "\"\"\"\n",
        "generate_prompt = \"\"\"\n",
        "数学の単元名が入力された際、小学生でも理解できるように各ステップをシンプルかつ分かりやすく解説してください。\n",
        "\n",
        "# Steps\n",
        "\n",
        "1. **単元名の理解**: まず、単元名を確認し、それが何を意味するのか簡単に説明してください。\n",
        "2. **基礎概念の説明**: 単元の基礎的な概念を、子どもが持っている既存の知識や日常的な例を使って説明してください。\n",
        "3. **ステップごとの解説**: 授業をするように、単元の内容をステップごとに分解し、それぞれのステップを詳しく解説してください。\n",
        "4. **実例の提示**: 各ステップに関連する簡単な例題を提示し、解き方を説明してください。\n",
        "5. **復習・確認**: 最後に、重要なポイントを復習し、その単元の基本的な理解ができるように確認問題を提案してください。\n",
        "\n",
        "# Output Format\n",
        "\n",
        "- 各ステップを明確に分け、短い段落で説明する形式。\n",
        "- 必要に応じて、箇条書きや番号付きリストを使用して情報を整理。\n",
        "- 最終的には、子どもが自身で説明できるような理解を促すこと。\n",
        "-出力はmarkdown形式にすること。\n",
        "\n",
        "# Examples\n",
        "\n",
        "**Example Input**\n",
        "- 「分数」\n",
        "\n",
        "**Example Output**\n",
        "1. **分数とは**: 分数とは、物をいくつかに分けたうちの一部を表す方法です。たとえば、ピザを8つに切ったうちの3つを食べるとき、「3/8」と分数で表します。\n",
        "2. **分子と分母**: 分数では上の数字が「分子」、下の数字が「分母」です。分子は取る部分の数、分母は全体をいくつに割ったかを示します。\n",
        "3. **例を解こう**: たとえば、ケーキを4つに切って、そのうちの2つを取るとき、分数で「2/4」となります。これを「1/2」とも書けます。\n",
        "4. **確認問題**: 別の食べ物（クッキーなど）を4人で平等に分ける例を考えてみましょう。それぞれの人の取り分を分数で表してください。\n",
        "\n",
        "# Notes\n",
        "\n",
        "- 言葉遣いは優しく、専門用語を使う場合は必ず説明を添えること。。\n",
        "\n",
        "---\n",
        "\n",
        "このテンプレートを使用して、講義内容と補足内容を基にした解説を作成してください。\n",
        "\"\"\"\n",
        "generate_table_prompt = \"\"\"\n",
        "# Prompt Template\n",
        "\n",
        "## Objective\n",
        "Reproduce and illustrate the problems presented in the lecture article using Python code.\n",
        "\n",
        "## Variables\n",
        "- **Lecture Article**: The complete text of the lecture article that contains the problems to be addressed.\n",
        "\n",
        "## Constraints\n",
        "- Do not focus on only a part of the lecture article; the entire content must be considered.\n",
        "\n",
        "## Requirements\n",
        "- Provide explanations in **Markdown format**.\n",
        "- Explain the concepts **step by step** for clarity.\n",
        "- For any diagrams or tables included in the lecture article, generate the corresponding Python code to reproduce them.\n",
        "\n",
        "---\n",
        "\n",
        "### Example Prompt\n",
        "\n",
        "Given the lecture article on {text}, please follow the instructions below:\n",
        "\n",
        "1. **Read the entire lecture article** to understand the problems presented.\n",
        "2. **Identify key problems** that can be illustrated using Python code.\n",
        "3. **Provide a step-by-step explanation** of each problem in Markdown format, ensuring clarity and comprehensiveness.\n",
        "4. For any diagrams or tables mentioned in the article, **generate the corresponding Python code** to reproduce them.\n",
        "5. Ensure that the explanations and code are well-structured and easy to follow.\n",
        "\n",
        "### Output Format\n",
        "\n",
        "```markdown\n",
        "# Title of the Lecture Article\n",
        "\n",
        "## Problem 1: [Title of the Problem]\n",
        "### Explanation\n",
        "[Step-by-step explanation of the problem]\n",
        "\n",
        "### Python Code\n",
        "```python\n",
        "# Python code to reproduce the problem\n",
        "```\n",
        "### Diagram/Table\n",
        "![Diagram/Table Description](link_to_image)\n",
        "\n",
        "## Problem 2: [Title of the Problem]\n",
        "### Explanation\n",
        "[Step-by-step explanation of the problem]\n",
        "\n",
        "### Python Code\n",
        "```python\n",
        "# Python code to reproduce the problem\n",
        "```\n",
        "### Diagram/Table\n",
        "![Diagram/Table Description](link_to_image)\n",
        "```\n",
        "\n",
        "---\n",
        "\n",
        "Feel free to customize the prompt with specific details from the lecture article you are working with!\n",
        "\"\"\"\n",
        "info_generate_prompt = \"\"\"\n",
        "外部情報と資料を元にして、資料の情報を豊富化してください。\n",
        "\n",
        "資料: {text}\n",
        "外部情報: {contexts}\n",
        "# Steps\n",
        "\n",
        "1. 資料を最初に読み、与えられた外部情報の内容を把握します。\n",
        "2. 資料のどの部分が補強され、または広げられるかを特定し、外部情報を活用します。\n",
        "3. 外部情報から得られる新しい事実や情報を、元の資料に適切に組み込みます。情報を追加する際、元の資料との整合性を維持します。\n",
        "4. 資料全体の一貫性を保ちつつ、追加した情報がどのように貢献するかを明確に示します。\n",
        "\n",
        "# Output Format\n",
        "\n",
        "- 文章: 日本語の自然な文章で作成された強化された資料\n",
        "- 段落: 必要に応じて段落を使用して情報を整理してください\n",
        "- 長さ・詳細: 4～6段落を目安に、資料全体がより深く、豊富になるように情報を追加してください。\n",
        "\n",
        "# Examples\n",
        "\n",
        "（入力）\n",
        "資料: 「気候変動は地球の平均気温に影響を与えており、近年増加しています。」\n",
        "外部情報: 「NASAの報告によると、2020年は観測史上最も暖かい年の一つであり、気温の上昇と共に海面上昇も加速している。」\n",
        "\n",
        "（出力）\n",
        "強化された資料: 「気候変動は地球の平均気温に深刻な影響を与え続けており、近年その上昇傾向が顕著になっています。NASAの報告によると、2020年は観測史上最も暖かい年の一つであり、これに伴い地球全体の平均気温の上昇が確認されています。この気温の上昇は大気中の温室効果ガスの増加と直接的に関連しており、海面上昇などの環境への影響を加速しています。」\n",
        "\"\"\""
      ]
    },
    {
      "cell_type": "markdown",
      "metadata": {
        "id": "WVK46dMC42O0"
      },
      "source": [
        "## chain定義\n",
        "最終的な処理内容として以下のようになった。  \n",
        "1. GPT-o1-previewによって草稿を作成する\n",
        "2. 批判的プロンプトと改善プロンプトの二つを用意する\n",
        "3. Bingsearch APIによって必要情報を取得し生成する。\n",
        "4. 批判的プロンプトによって草案に対して改善案を出力する\n",
        "5. 改善プロンプトによって改善案と草案を入力することで改善された原稿を出力\n",
        "6. これを規定step数に達するまで実行する\n",
        "7. 完成した原稿に対して見出し2で分割し、それぞれに対してBingsearch APIを用いてweb上から補足情報の取得を行う。\n",
        "8. 補足情報と分割した講義内容を入力することで補足情報の補完を行った原稿の作成を行う。\n",
        "9. 原稿に対して例題や図(pythonコードで出力させ後述の処理によって画像変換)を作成\n",
        "10. 以上を踏まえて作成した草案に対して、web上のChatGPTにて対話的に改善を行い、人間による構成を経てこれを最終原稿とする。"
      ]
    },
    {
      "cell_type": "code",
      "execution_count": null,
      "metadata": {
        "id": "Uic-PcIGkVK_"
      },
      "outputs": [],
      "source": [
        "from typing import List\n",
        "from langchain_core.messages import SystemMessage\n",
        "# 新バージョンのインポート\n",
        "from pydantic import BaseModel,Field\n",
        "from langchain_openai import ChatOpenAI\n",
        "from langchain_community.utilities import BingSearchAPIWrapper\n",
        "from langchain.callbacks import StdOutCallbackHandler\n",
        "import time\n",
        "from langchain_core.runnables import RunnablePassthrough, RunnableMap, RunnableParallel\n",
        "from langchain_core.prompts import ChatPromptTemplate\n",
        "new_extract_prompt = ChatPromptTemplate.from_template(extract_prompt) #contexts\n",
        "new_generate_prompt = ChatPromptTemplate.from_template(info_generate_prompt) #text&critic\n",
        "class ExtractQueries(BaseModel):\n",
        "  \"\"\"Instructions on how to prompt the LLM.\"\"\"\n",
        "  search_queries: List[str] = Field(description=\"文章の内容を踏まえてよりよい教材にするため必要な情報\")\n",
        "  sentence: str = Field(description=\"前段階で生成された文章\")\n",
        "def search_bing(structured_result):\n",
        "    # ツールの定義\n",
        "  contexts=[]\n",
        "  search = BingSearchAPIWrapper()\n",
        "  for content in structured_result.search_queries:\n",
        "    contexts.append(search.run(content))\n",
        "    time.sleep(1)\n",
        "  return(contexts)\n",
        "def llm_response(prompt):\n",
        "  llm = ChatOpenAI(model=\"gpt-4o-mini\",temperature=0, verbose=True)\n",
        "  result = llm.invoke(prompt)\n",
        "  return(result.content)\n",
        "def generate_table(result):\n",
        "  llm = ChatOpenAI(model=\"gpt-4o-mini\",temperature=0, verbose=True)\n",
        "  result = llm.invoke(generate_table_prompt.format(text = result))\n",
        "  return(result.content)\n",
        "llm = ChatOpenAI(model=\"gpt-4o-mini\",temperature=0, verbose=True)\n",
        "structured_llm = llm.with_structured_output(ExtractQueries)\n",
        "chain= (RunnableParallel({\"contexts\": new_extract_prompt | structured_llm | search_bing,\n",
        "                            \"text\": RunnablePassthrough()})\n",
        "                | new_generate_prompt\n",
        "                | llm_response\n",
        "                )"
      ]
    },
    {
      "cell_type": "code",
      "execution_count": null,
      "metadata": {
        "id": "x52lg_Qb2RME"
      },
      "outputs": [],
      "source": [
        "from langchain_core.runnables import RunnablePassthrough, RunnableMap, RunnableParallel\n",
        "from langchain_core.prompts import ChatPromptTemplate\n",
        "new_critic_prompt = ChatPromptTemplate.from_template(critic_prompt) #critic\n",
        "new_refine_prompt = ChatPromptTemplate.from_template(refine_prompt) #text&critic\n",
        "def critic_responce(prompt):\n",
        "  llm = ChatOpenAI(model=\"gpt-4o-mini\",temperature=0, verbose=True)\n",
        "  result = llm.invoke(prompt)\n",
        "  return(result.content)\n",
        "def refine_lesson(prompt):\n",
        "    llm = ChatOpenAI(model=\"gpt-4o-mini\",temperature=0, verbose=True)\n",
        "    result = llm.invoke(prompt)\n",
        "    return(result.content)\n",
        "runnable_chain= (RunnableParallel({\"critic\": new_critic_prompt | critic_responce,\n",
        "                            \"text\": RunnablePassthrough()})\n",
        "                | new_refine_prompt\n",
        "                | refine_lesson\n",
        "                )\n"
      ]
    },
    {
      "cell_type": "code",
      "execution_count": null,
      "metadata": {
        "id": "KbAwQikHvLKk"
      },
      "outputs": [],
      "source": [
        "runnable_chain.invoke({\"critic\":lesson_sentence,\"text\":lesson_sentence})"
      ]
    },
    {
      "cell_type": "code",
      "execution_count": null,
      "metadata": {
        "id": "gMIMWTp15cFl"
      },
      "outputs": [],
      "source": [
        "refinement_chain= (RunnableParallel({\"critic\": new_critic_prompt | critic_responce,\n",
        "                          \"text\": RunnablePassthrough()})\n",
        "              | new_refine_prompt\n",
        "              | refine_lesson)\n",
        "step = 3\n",
        "source_text = result\n",
        "for i in range(step):\n",
        "  result = refinement_chain.invoke({\"critic\":source_text,\"text\":source_text})\n",
        "  source_text = result\n",
        "  print(result)"
      ]
    },
    {
      "cell_type": "code",
      "execution_count": null,
      "metadata": {
        "colab": {
          "base_uri": "https://localhost:8080/",
          "height": 237
        },
        "id": "WsR2b7-wXbEf",
        "outputId": "93cef4b2-e431-432c-ac5a-0e86875bba76"
      },
      "outputs": [
        {
          "data": {
            "application/vnd.google.colaboratory.intrinsic+json": {
              "type": "string"
            },
            "text/plain": [
              "'# 図形と方程式の洗練された解説\\n\\n数学の重要な単元である「**図形と方程式**」について、より具体的な背景情報や応用例を交えながら詳しく解説していきます。この分野は高校2年生の数学の中でも特に重要であり、幾何学（図形の形状や性質を研究する分野）と代数学（数式や方程式を扱う分野）を結びつける役割を果たします。この単元を深く理解することで、数学全体の理解が深まり、応用力も向上します。\\n\\n---\\n\\n## 図形と方程式の基本概念\\n\\n「図形と方程式」では、**座標平面**（通常は \\\\( x \\\\)-軸と \\\\( y \\\\)-軸からなる二次元平面）上で図形を扱います。図形を方程式で表現することで、その性質を数式的に解析できます。これにより、直感やひらめきに頼らず、計算によって図形の問題を解くことが可能になります。\\n\\n### 高校カリキュラムにおける位置づけ\\n\\nこの単元は、数学の基礎を形成する重要な部分であり、他の数学的分野（例えば、微積分や確率）や理科系科目（物理学や工学）においても必要不可欠な知識です。特に、解析幾何学や物理学の運動の理解において、図形と方程式の知識が役立ちます。\\n\\n---\\n\\n## 1. 直線の方程式\\n\\nまず、**直線の方程式**について学びます。直線は最も基本的な図形の一つであり、その方程式を理解することは他の複雑な図形を扱う基礎となります。\\n\\n### 直線の方程式の形式\\n\\n- **傾きと切片による形式（傾き切片方程式）**：  \\n  \\\\[\\n  y = mx + b\\n  \\\\]\\n  - \\\\( m \\\\) は直線の**傾き**（勾配）を表し、\\\\( b \\\\) は \\\\( y \\\\)-軸との交点（**切片**）を表します。  \\n  - **例**：傾きが 2 で \\\\( y \\\\)-切片が -3 の直線は、\\\\( y = 2x - 3 \\\\) となります。\\n\\n- **点と傾きを用いた形式（点傾き方程式）**：  \\n  \\\\[\\n  y - y_1 = m(x - x_1)\\n  \\\\]\\n  - \\\\( (x_1, y_1) \\\\) は直線上の一点で、\\\\( m \\\\) は傾きです。  \\n  - **例**：点 \\\\( (2, 5) \\\\) を通り、傾きが -1 の直線は、\\\\( y - 5 = -1(x - 2) \\\\) となります。\\n\\n- **2点を通る直線の方程式**：  \\n  - 2つの点 \\\\( (x_1, y_1) \\\\)、\\\\( (x_2, y_2) \\\\) を通る直線の傾きは、  \\n    \\\\[\\n    m = \\\\frac{y_2 - y_1}{x_2 - x_1}\\n    \\\\]\\n  - この傾きを用いて、上記の点傾き方程式を作成します。\\n\\n### 直線の重要な概念\\n\\n- **平行**：2つの直線が平行である条件は、傾きが等しいことです（\\\\( m_1 = m_2 \\\\)）。\\n- **垂直**：2つの直線が垂直である条件は、傾きの積が -1 になることです（\\\\( m_1 \\\\times m_2 = -1 \\\\)）。\\n\\n---\\n\\n## 2. 円の方程式\\n\\n次に、**円の方程式**について学びます。円は特定の点（中心）から一定の距離（半径）にある点の集合として定義されます。\\n\\n### 円の方程式の形式\\n\\n- **標準形**：  \\n  \\\\[\\n  (x - h)^2 + (y - k)^2 = r^2\\n  \\\\]\\n  - \\\\( (h, k) \\\\) は円の**中心**、\\\\( r \\\\) は**半径**です。  \\n  - **例**：中心が \\\\( (3, -2) \\\\)、半径が 5 の円は、  \\n    \\\\[\\n    (x - 3)^2 + (y + 2)^2 = 25\\n    \\\\]\\n\\n- **一般形**：  \\n  \\\\[\\n  x^2 + y^2 + Dx + Ey + F = 0\\n  \\\\]\\n  - この形式を標準形に変換するには、**平方完成**を行います。\\n\\n### 直線と円の位置関係\\n\\n- **交点がある（2点で交わる）**：連立方程式を解いたときに、異なる2つの実数解が得られる場合。\\n- **接する（1点で交わる）**：判別式がゼロになる場合。\\n- **交わらない（共通点がない）**：判別式が負の値になる場合。\\n\\n---\\n\\n## 3. 内分点と外分点\\n\\n**内分点**と**外分点**は、線分を一定の比で分割する点です。\\n\\n### 内分点の公式\\n\\n- 点 \\\\( A(x_1, y_1) \\\\) と点 \\\\( B(x_2, y_2) \\\\) を \\\\( m:n \\\\) に内分する点 \\\\( P(x, y) \\\\) は、  \\n  \\\\[\\n  x = \\\\frac{nx_1 + mx_2}{m + n}, \\\\quad y = \\\\frac{ny_1 + my_2}{m + n}\\n  \\\\]\\n\\n### 外分点の公式\\n\\n- 同じ点 \\\\( A \\\\) と \\\\( B \\\\) を \\\\( m:n \\\\) に外分する点 \\\\( Q(x, y) \\\\) は、  \\n  \\\\[\\n  x = \\\\frac{-nx_1 + mx_2}{m - n}, \\\\quad y = \\\\frac{-ny_1 + my_2}{m - n}\\n  \\\\]\\n\\n**例**：点 \\\\( A(1, 2) \\\\) と点 \\\\( B(5, 6) \\\\) を 2:1 に内分する点 \\\\( P \\\\) は、  \\n\\\\[\\nx = \\\\frac{1 \\\\times 1 + 2 \\\\times 5}{2 + 1} = \\\\frac{1 + 10}{3} = \\\\frac{11}{3}, \\\\quad y = \\\\frac{1 \\\\times 2 + 2 \\\\times 6}{2 + 1} = \\\\frac{2 + 12}{3} = \\\\frac{14}{3}\\n\\\\]\\n\\n---\\n\\n## 4. 図形の計量と計算手法\\n\\n座標平面上で図形を扱うことで、以下のような計算が可能になります。\\n\\n### 2点間の距離\\n\\n- 点 \\\\( A(x_1, y_1) \\\\) と点 \\\\( B(x_2, y_2) \\\\) の間の距離 \\\\( d \\\\) は、  \\n  \\\\[\\n  d = \\\\sqrt{(x_2 - x_1)^2 + (y_2 - y_1)^2}\\n  \\\\]\\n\\n**例**：点 \\\\( A(1, 2) \\\\) と点 \\\\( B(4, 6) \\\\) の距離は、  \\n\\\\[\\nd = \\\\sqrt{(4 - 1)^2 + (6 - 2)^2} = \\\\sqrt{9 + 16} = \\\\sqrt{25} = 5\\n\\\\]\\n\\n### 線分の中点\\n\\n- 中点 \\\\( M(x, y) \\\\) は、  \\n  \\\\[\\n  x = \\\\frac{x_1 + x_2}{2}, \\\\quad y = \\\\frac{y_1 + y_2}{2}\\n  \\\\]\\n\\n---\\n\\n## 5. 図形と方程式の応用\\n\\n**図形と方程式**の知識は、以下のような分野で応用されます。\\n\\n- **解析幾何学**：より複雑な図形や曲線（放物線、楕円、双曲線など）を方程式で表し、その性質を研究します。\\n- **物理学**：運動の軌跡、力のベクトル解析、波の伝播などに応用されます。\\n- **工学**：建築物や機械部品の設計、ロボット工学などで必要となる座標計算。\\n\\n### 具体的な応用例\\n\\n- **物理学**：物体の運動を解析する際、直線や円の方程式を用いて、物体の位置や速度を計算します。\\n- **工学**：建物の設計において、力の分布を計算するために、図形と方程式の知識が必要です。\\n\\n---\\n\\n## 6. 学習のポイントと進め方\\n\\n- **基本原理の理解**：公式や方程式をただ暗記するのではなく、その導出過程や意味を理解しましょう。\\n- **グラフの描画**：手を動かして実際にグラフを描くことで、図形と方程式の対応関係を視覚的に理解できます。\\n- **問題演習**：多種多様な問題を解くことで、理解を深め、応用力を養います。\\n- **疑問点の解消**：わからない点はそのままにせず、教科書や参考書、教師に質問して解決しましょう。\\n\\n### 学習スケジュールの提案\\n\\n1. **週1回の復習**：各トピックを1週間ごとに復習し、理解を深める。\\n2. **毎日の問題演習**：毎日少しずつ問題を解くことで、実践力を養う。\\n3. **月1回の模擬テスト**：理解度を確認するために、模擬テストを行う。\\n\\n---\\n\\n## 7. まとめ\\n\\n「図形と方程式」は、数学の基礎を形成する重要な分野です。座標平面上で図形を扱うことで、計算によって図形の問題を解くことができ、他の数学的分野や理科系科目にも応用が広がります。基礎からじっくりと学び、問題演習を通して理解を深めていきましょう。\\n\\n### おすすめの学習リソース\\n\\n- 高校数学の教科書（数学II・B）\\n- 図形と方程式に特化した問題集や参考書\\n- オンライン学習サイトや動画解説\\n\\n---\\n\\nこのように、図形と方程式の関係を深く理解することで、数学的な思考力と問題解決能力が向上します。継続的な学習と練習を通じて、確かな実力を身につけてください。'"
            ]
          },
          "execution_count": 29,
          "metadata": {},
          "output_type": "execute_result"
        }
      ],
      "source": [
        "result"
      ]
    },
    {
      "cell_type": "code",
      "execution_count": null,
      "metadata": {
        "colab": {
          "base_uri": "https://localhost:8080/",
          "height": 293
        },
        "id": "0imXRyWBTa2e",
        "outputId": "cb01aff2-f596-45c6-b97d-cf5467ced1b5"
      },
      "outputs": [
        {
          "data": {
            "application/vnd.google.colaboratory.intrinsic+json": {
              "type": "string"
            },
            "text/plain": [
              "'強化された資料: \\n\\n「図形と方程式」は数学の重要な単元であり、高校2年生の数学の中でも特に重要な位置を占めています。この分野は、幾何学（図形の形状や性質を研究する分野）と代数学（数式や方程式を扱う分野）を結びつける役割を果たします。特に、解析幾何学の基礎を形成するこの単元を深く理解することで、数学全体の理解が深まり、他の数学的分野や理科系科目（物理学や工学）においても必要不可欠な知識を身につけることができます。実際、解析幾何学は、ルネ・デカルトの著書『方法序説』において初めて登場し、以降の数学の発展に大きな影響を与えました。\\n\\n「図形と方程式」では、座標平面（通常は \\\\( x \\\\)-軸と \\\\( y \\\\)-軸からなる二次元平面）上で図形を扱います。図形を方程式で表現することで、その性質を数式的に解析でき、直感やひらめきに頼らず計算によって図形の問題を解くことが可能になります。特に、直線の方程式や円の方程式は、数学の基礎的な概念を理解する上で欠かせないものであり、これらの方程式を用いることで、物理学における運動の軌跡や力のベクトル解析など、さまざまな応用が可能となります。\\n\\n直線の方程式に関しては、傾きと切片による形式や点と傾きを用いた形式、さらには2点を通る直線の方程式など、さまざまな表現方法があります。これにより、直線の性質を多角的に理解することができ、平行や垂直の条件を明確に把握することができます。また、円の方程式についても、標準形と一般形の理解が重要であり、特に円と直線の位置関係を考える際には、交点の有無や接点の条件を判別する能力が求められます。\\n\\nさらに、内分点と外分点の概念は、線分を一定の比で分割する際に非常に重要です。内分点の公式や外分点の公式を理解することで、座標平面上での点の位置を正確に求めることができ、これにより図形の性質をより深く理解することが可能になります。特に、動点が作る図形の面積を求める問題などは、受験において非常に重要なテーマであり、実際の問題演習を通じてその理解を深めることが求められます。\\n\\nこのように、「図形と方程式」の知識は、解析幾何学や物理学、工学などの分野で広く応用されます。特に、物理学では物体の運動を解析する際に直線や円の方程式を用いて位置や速度を計算し、工学では建物の設計や機械部品の設計において必要な座標計算が行われます。したがって、この単元をしっかりと学ぶことで、数学的な思考力と問題解決能力を向上させることができるのです。継続的な学習と問題演習を通じて、確かな実力を身につけていきましょう。'"
            ]
          },
          "execution_count": 27,
          "metadata": {},
          "output_type": "execute_result"
        }
      ],
      "source": [
        "chain.invoke({\"contexts\":result,\"text\":result})"
      ]
    },
    {
      "cell_type": "code",
      "execution_count": null,
      "metadata": {
        "id": "JnnbFb9o-46n"
      },
      "outputs": [],
      "source": [
        "import re\n",
        "\n",
        "def split_markdown_by_h2(markdown_text):\n",
        "    \"\"\"\n",
        "    Markdownテキストをレベル2の見出しで分割します。\n",
        "\n",
        "    Parameters:\n",
        "        markdown_text (str): 分割するMarkdownテキスト。\n",
        "\n",
        "    Returns:\n",
        "        list: 各セクションのリスト。\n",
        "    \"\"\"\n",
        "    # レベル2の見出しでテキストを分割し、見出し自体もキャプチャ\n",
        "    pattern = r'(## .*)'\n",
        "    parts = re.split(pattern, markdown_text)\n",
        "\n",
        "    # 最初の要素が空でない場合、それを結果に追加\n",
        "    sections = []\n",
        "    if parts[0].strip():\n",
        "        sections.append(parts[0])\n",
        "\n",
        "    # 見出しとその内容を組み合わせてセクションを作成\n",
        "    for i in range(1, len(parts), 2):\n",
        "        heading = parts[i]\n",
        "        content = parts[i+1] if i+1 < len(parts) else ''\n",
        "        sections.append(heading + content)\n",
        "\n",
        "    return sections"
      ]
    },
    {
      "cell_type": "code",
      "execution_count": null,
      "metadata": {
        "id": "MPS6zmKGIBS9"
      },
      "outputs": [],
      "source": [
        "sections = split_markdown_by_h2(result)"
      ]
    },
    {
      "cell_type": "code",
      "execution_count": null,
      "metadata": {
        "id": "4N1sQleIrDaP"
      },
      "outputs": [],
      "source": [
        "from tqdm import tqdm\n",
        "contents = [runnable_chain.invoke({\"critic\":content,\"text\":content}) for content in tqdm(sections)]\n",
        "# リストの要素を改行コードで結合\n",
        "combined_text = '\\n'.join(contents)\n",
        "\n",
        "print(combined_text)"
      ]
    },
    {
      "cell_type": "code",
      "execution_count": null,
      "metadata": {
        "id": "i4MleqlZvAYZ"
      },
      "outputs": [],
      "source": [
        "result = refinement_chain.invoke({\"critic\":combined_text,\"text\":combined_text})"
      ]
    },
    {
      "cell_type": "code",
      "execution_count": null,
      "metadata": {
        "colab": {
          "base_uri": "https://localhost:8080/",
          "height": 384
        },
        "id": "xdytx14FwHmJ",
        "outputId": "08da0a6d-a6b1-4cba-9ea5-0a623345cc82"
      },
      "outputs": [
        {
          "data": {
            "application/vnd.google.colaboratory.intrinsic+json": {
              "type": "string"
            },
            "text/plain": [
              "'# 図形と方程式の理解を深めるための解説\\n\\n「図形と方程式」は数学の基礎を形成する重要な分野であり、特に高校数学においてその重要性が際立っています。この解説では、背景情報、具体的な例、学習方法、評価基準、応用例を含めて、より深く理解できるように説明します。\\n\\n## 1. 背景情報の理解\\n\\n### 1.1 数学全体との関連性\\n「図形と方程式」は、幾何学と代数学を結びつける役割を果たします。具体的には、図形を数式で表現し、逆に数式から図形を描く能力が求められます。この単元を深く理解することで、数学全体の理解が深まり、応用力も向上します。\\n\\n### 1.2 歴史的背景\\nこの分野は、古代ギリシャの数学者たちによって発展し、特にユークリッドの幾何学が基礎となっています。近代に入ると、デカルトの解析幾何学が登場し、図形を代数的に表現する方法が確立されました。\\n\\n## 2. 具体的な例\\n\\n### 2.1 直線の方程式\\n直線の方程式は、次のように表されます。\\n\\n- **傾き切片形式**: \\n  \\\\[\\n  y = mx + b\\n  \\\\]\\n  ここで、\\\\( m \\\\)は傾き、\\\\( b \\\\)はy切片です。\\n\\n- **一般形**: \\n  \\\\[\\n  ax + by + c = 0\\n  \\\\]\\n\\n#### 例題\\n点 \\\\( A(1, 2) \\\\) と点 \\\\( B(3, 4) \\\\) を通る直線の方程式を求める。\\n\\n1. **傾きを求める**:\\n   \\\\[\\n   m = \\\\frac{y_2 - y_1}{x_2 - x_1} = \\\\frac{4 - 2}{3 - 1} = 1\\n   \\\\]\\n\\n2. **点傾き形式を使う**:\\n   \\\\[\\n   y - 2 = 1(x - 1) \\\\implies y = x + 1\\n   \\\\]\\n\\n### 2.2 円の方程式\\n円の方程式は、次のように表されます。\\n\\n- **標準形**: \\n  \\\\[\\n  (x - a)^2 + (y - b)^2 = r^2\\n  \\\\]\\n  ここで、\\\\( (a, b) \\\\)は円の中心、\\\\( r \\\\)は半径です。\\n\\n#### 例題\\n中心が \\\\( (2, 3) \\\\) で半径が 4 の円の方程式を求める。\\n\\n\\\\[\\n(x - 2)^2 + (y - 3)^2 = 16\\n\\\\]\\n\\n## 3. 学習方法の具体性\\n\\n### 3.1 ステップバイステップの学習\\n1. **基本概念の理解**: 直線や円の方程式の定義をしっかりと理解する。\\n2. **例題を解く**: 上記の例題のように、具体的な問題を解いてみる。\\n3. **図を描く**: グラフを描くことで、視覚的に理解を深める。\\n\\n### 3.2 問題演習\\n- 教科書や問題集から多様な問題を解く。\\n- 自分の解答を確認し、間違えた問題を復習する。\\n\\n## 4. 評価基準の設定\\n\\n### 4.1 自己評価の方法\\n- 各トピックごとに理解度を自己評価する。\\n- 模擬テストを受けて、実際の試験環境での理解度を測る。\\n\\n## 5. 応用例の具体性\\n\\n### 5.1 実生活への応用\\n- **物理学**: 物体の運動を解析する際に、直線や円の方程式を用いる。\\n- **工学**: 建物の設計において、力の分布を計算するために図形と方程式の知識が必要。\\n\\n### 5.2 具体的な応用例\\n- **放物線の応用**: パラボラアンテナの原理は、放物線の性質を利用しており、信号が焦点に同時に届く特性を持っています。\\n\\n## 6. 図表の活用\\n\\n### 6.1 図表の例\\n以下の図は、直線と円の位置関係を示しています。\\n\\n![直線と円の位置関係](https://via.placeholder.com/400x300.png?text=%E7%9B%B4%E7%B7%9A%E3%81%A8%E5%86%86%E3%81%AE%E4%BD%8D%E7%BD%AE%E9%96%A2%E4%BF%82)\\n\\n## まとめ\\n「図形と方程式」の学習は、数学の基礎を築く上で非常に重要です。具体的な例を通じて理解を深め、実生活への応用を考えることで、学びをより豊かにすることができます。継続的な学習と問題演習を通じて、確かな実力を身につけてください。'"
            ]
          },
          "execution_count": 38,
          "metadata": {},
          "output_type": "execute_result"
        }
      ],
      "source": [
        "result"
      ]
    },
    {
      "cell_type": "markdown",
      "metadata": {
        "id": "qLjDrbEjVQ83"
      },
      "source": [
        "## 図表の描写\n",
        "上の処理によって原稿にはグラフの描写に必要なpythonコードが入力されている。  \n",
        "このコードは```python ``` のコードブロックによって囲まれており、その部分を抽出してグラフの保存並びにMaekdown表記における画像表示を実装する"
      ]
    },
    {
      "cell_type": "code",
      "execution_count": null,
      "metadata": {
        "id": "AG3lJ4uV-Ot0"
      },
      "outputs": [],
      "source": [
        "import re\n",
        "\n",
        "# 正規表現を用いて指定されたデリミタに囲まれた部分を抽出\n",
        "code_blocks = re.findall(r'```python\\n(.*?)\\```', markdown_text, re.DOTALL)\n",
        "\n",
        "# 抽出された部分を表示\n",
        "for index, code in enumerate(code_blocks):\n",
        "    print(f\"Code Block {index + 1}:\\n{code.strip()}\\n\")\n"
      ]
    },
    {
      "cell_type": "code",
      "execution_count": null,
      "metadata": {
        "id": "5HSgpPdCwR3D"
      },
      "outputs": [],
      "source": [
        "modified_codes = []\n",
        "for index, code in enumerate(code_blocks):\n",
        "    print(f\"Executing Code Block {index + 1}:\")\n",
        "\n",
        "    # ファイル名を設定\n",
        "    image_filename = f\"/content/image_folder/output_{index + 1}.png\"\n",
        "\n",
        "    # コードに画像の保存処理を追加\n",
        "    code = code.replace(\"plt.show()\",\"\")\n",
        "    code = code.replace(\"plt.legend()\",\"\")\n",
        "    modified_code = code + f\"\\nplt.savefig('{image_filename}')\"\n",
        "\n",
        "    try:\n",
        "        # コードを実行\n",
        "        modified_codes.append(modified_code)\n",
        "        exec(modified_code)\n",
        "        print(f\"グラフを {image_filename} として保存しました。\\n\")\n",
        "    except Exception as e:\n",
        "        print(f\"コードブロック {index + 1} の実行中にエラーが発生しました: {e}\\n\")\n"
      ]
    },
    {
      "cell_type": "code",
      "execution_count": null,
      "metadata": {
        "id": "MPBsd-XzyqXF"
      },
      "outputs": [],
      "source": [
        "for index, code in enumerate(code_blocks):\n",
        "  image_filename = f\"/content/image_folder/output_{index + 1}.png\"\n",
        "  if image_filename:\n",
        "    markdown_text = markdown_text.replace(\"```python\\n\"+code+\"```\\n\", f\"![コードブロック {index + 1}]({image_filename})\")"
      ]
    },
    {
      "cell_type": "code",
      "execution_count": null,
      "metadata": {
        "colab": {
          "base_uri": "https://localhost:8080/",
          "height": 1000
        },
        "id": "DszpZpwF9LVh",
        "outputId": "684e3d49-ad86-48ee-93b9-2f449f56faed"
      },
      "outputs": [
        {
          "data": {
            "application/vnd.google.colaboratory.intrinsic+json": {
              "type": "string"
            },
            "text/plain": [
              "'# 図形と方程式の講義テキスト\\n\\n「図形と方程式」は高校数学でとても重要な単元です。ここでは、**図形を数式で表したり、数式から図形を描いたり**します。この分野を理解すると、数学全体の力がぐんと伸びます！\\n\\n## 1. 図形と方程式の基本概念\\n\\n「図形と方程式」では、**座標平面**（通常は \\\\( x \\\\)-軸と \\\\( y \\\\)-軸からなる二次元平面）上で図形を扱います。座標平面は、横の数直線（\\\\( x \\\\)-軸）と縦の数直線（\\\\( y \\\\)-軸）を使って、平面上の点の位置を表します。例えば、点 \\\\( (3, 2) \\\\) は原点 \\\\( O \\\\) から右に3、上に2進んだ場所です。\\n\\n図形を方程式で表すことで、その性質を数式で解析できます。例えば、**直線の方程式**や**円の方程式**など、さまざまな図形は特定の方程式で表現できます。これにより、直感やひらめきに頼らず、計算によって図形の問題を解くことが可能になります。\\n\\nまた、座標平面上の図形は、**点の集合**として理解できます。例えば、**円**は中心からの距離が一定の点の集合です。その方程式は \\\\( (x - a)^2 + (y - b)^2 = r^2 \\\\) という形で表されます。\\n\\n### 【例題1】\\n\\n**点 A(2, 3) と点 B(6, 7) を通る直線の方程式を求めよ。**\\n\\n#### 【解答】\\n\\n1. **傾き \\\\( m \\\\) を求める**\\n\\n   \\\\[\\n   m = \\\\frac{y_2 - y_1}{x_2 - x_1} = \\\\frac{7 - 3}{6 - 2} = \\\\frac{4}{4} = 1\\n   \\\\]\\n\\n2. **点 A(2, 3) を通るので、点傾きの式に代入**\\n\\n   \\\\[\\n   y - y_1 = m(x - x_1)\\n   \\\\]\\n   \\n   に代入すると、\\n\\n   \\\\[\\n   y - 3 = 1(x - 2)\\n   \\\\]\\n\\n3. **方程式を整理**\\n\\n   \\\\[\\n   y = x + 1\\n   \\\\]\\n\\n#### 【答え】\\n\\n直線の方程式は **\\\\( y = x + 1 \\\\)** です。\\n\\n---\\n\\n### 【グラフの描画】\\n\\nこの直線 \\\\( y = x + 1 \\\\) をグラフで表してみましょう。\\n\\n#### 【Pythonコードによるグラフ描画】\\n\\n![コードブロック 1](/content/image_folder/output_1.png)\\n#### 【グラフの説明】\\n\\n- 赤い点が点 A(2, 3)、青い点が点 B(6, 7) です。\\n- 直線 \\\\( y = x + 1 \\\\) はこの2点を通っています。\\n\\n---\\n\\n## 2. 直線の方程式\\n\\n### 直線の方程式の形式\\n\\n直線の方程式にはいくつかの形式があります。\\n\\n1. **傾き・切片形式**\\n\\n   \\\\[\\n   y = mx + b\\n   \\\\]\\n   \\n   - \\\\( m \\\\) は傾き、\\\\( b \\\\) は \\\\( y \\\\)-切片（\\\\( y \\\\) 軸との交点）です。\\n\\n2. **点・傾き形式**\\n\\n   \\\\[\\n   y - y_1 = m(x - x_1)\\n   \\\\]\\n   \\n   - \\\\( (x_1, y_1) \\\\) は直線上の一点。\\n\\n3. **一般形式**\\n\\n   \\\\[\\n   ax + by + c = 0\\n   \\\\]\\n   \\n   - \\\\( a \\\\), \\\\( b \\\\), \\\\( c \\\\) は定数。\\n\\n### 【例題2】\\n\\n**直線 \\\\( y = -\\\\dfrac{1}{2}x + 3 \\\\) と平行で、点 (4, -1) を通る直線の方程式を求めよ。**\\n\\n#### 【解答】\\n\\n1. **平行な直線の傾きは同じ**なので、傾き \\\\( m = -\\\\dfrac{1}{2} \\\\)。\\n\\n2. **点 (4, -1) を通るので、点・傾き形式に代入**\\n\\n   \\\\[\\n   y - y_1 = m(x - x_1)\\n   \\\\]\\n   \\n   に代入すると、\\n\\n   \\\\[\\n   y - (-1) = -\\\\dfrac{1}{2}(x - 4)\\n   \\\\]\\n\\n3. **方程式を整理**\\n\\n   \\\\[\\n   y + 1 = -\\\\dfrac{1}{2}x + 2\\n   \\\\]\\n   \\n   \\\\[\\n   y = -\\\\dfrac{1}{2}x + 1\\n   \\\\]\\n\\n#### 【答え】\\n\\n直線の方程式は **\\\\( y = -\\\\dfrac{1}{2}x + 1 \\\\)** です。\\n\\n---\\n\\n### 【グラフの描画】\\n\\n元の直線と求めた直線を同じグラフに描いてみましょう。\\n\\n#### 【Pythonコードによるグラフ描画】\\n\\n![コードブロック 2](/content/image_folder/output_2.png)\\n#### 【グラフの説明】\\n\\n- 黒の破線が元の直線 \\\\( y = -\\\\dfrac{1}{2}x + 3 \\\\)。\\n- 赤い線が求めた直線 \\\\( y = -\\\\dfrac{1}{2}x + 1 \\\\)。\\n- 青い点が通るべき点 (4, -1)。\\n- 2つの直線は平行であることがわかります。\\n\\n---\\n\\n## 3. 円の方程式\\n\\n次に、**円の方程式**について学びます。円は、特定の点（中心）から一定の距離（半径）にある点の集合です。\\n\\n### 円の方程式の形式\\n\\n1. **標準形**\\n\\n   \\\\[\\n   (x - h)^2 + (y - k)^2 = r^2\\n   \\\\]\\n   \\n   - \\\\( (h, k) \\\\) は中心の座標。\\n   - \\\\( r \\\\) は半径。\\n\\n2. **一般形**\\n\\n   \\\\[\\n   x^2 + y^2 + Dx + Ey + F = 0\\n   \\\\]\\n   \\n   - \\\\( D \\\\), \\\\( E \\\\), \\\\( F \\\\) は定数。\\n\\n### 【例題3】\\n\\n**次の円の方程式を標準形に直し、中心と半径を求めよ。**\\n\\n\\\\[\\nx^2 + y^2 - 4x + 6y - 12 = 0\\n\\\\]\\n\\n#### 【解答】\\n\\n1. **平方完成を行う**\\n\\n   - \\\\( x \\\\) に関する項をまとめて平方完成：\\n\\n     \\\\[\\n     x^2 - 4x = (x - 2)^2 - 4\\n     \\\\]\\n\\n   - \\\\( y \\\\) に関する項をまとめて平方完成：\\n\\n     \\\\[\\n     y^2 + 6y = (y + 3)^2 - 9\\n     \\\\]\\n\\n2. **元の方程式に代入**\\n\\n   \\\\[\\n   (x - 2)^2 - 4 + (y + 3)^2 - 9 - 12 = 0\\n   \\\\]\\n\\n3. **定数項をまとめる**\\n\\n   \\\\[\\n   (x - 2)^2 + (y + 3)^2 - 25 = 0\\n   \\\\]\\n\\n4. **両辺に 25 を加える**\\n\\n   \\\\[\\n   (x - 2)^2 + (y + 3)^2 = 25\\n   \\\\]\\n\\n5. **中心と半径を求める**\\n\\n   - 中心：\\\\( (2, -3) \\\\)\\n   - 半径：\\\\( \\\\sqrt{25} = 5 \\\\)\\n\\n#### 【答え】\\n\\n- **標準形**：\\\\( (x - 2)^2 + (y + 3)^2 = 25 \\\\)\\n- **中心**：\\\\( (2, -3) \\\\)\\n- **半径**：5\\n\\n---\\n\\n### 【グラフの描画】\\n\\nこの円をグラフで描いてみましょう。\\n\\n#### 【Pythonコードによるグラフ描画】\\n\\n![コードブロック 3](/content/image_folder/output_3.png)\\n#### 【グラフの説明】\\n\\n- 円の中心は赤い点で示されています。\\n- 半径5の円が描かれています。\\n\\n---\\n\\n## 4. 内分点と外分点\\n\\n**内分点**と**外分点**は、線分を特定の比で分ける点です。\\n\\n### 内分点の公式\\n\\n線分 \\\\( AB \\\\) を \\\\( m:n \\\\) に内分する点 \\\\( P \\\\) の座標：\\n\\n\\\\[\\nP\\\\left( \\\\frac{n x_1 + m x_2}{m + n}, \\\\frac{n y_1 + m y_2}{m + n} \\\\right)\\n\\\\]\\n\\n### 【例題4】\\n\\n**点 A(1, 2) と点 B(7, 8) を 3:1 に内分する点 \\\\( P \\\\) の座標を求めよ。**\\n\\n#### 【解答】\\n\\n1. **公式に代入**\\n\\n   \\\\[\\n   x = \\\\frac{1 \\\\times 1 + 3 \\\\times 7}{3 + 1} = \\\\frac{1 + 21}{4} = \\\\frac{22}{4} = 5.5\\n   \\\\]\\n   \\n   \\\\[\\n   y = \\\\frac{1 \\\\times 2 + 3 \\\\times 8}{3 + 1} = \\\\frac{2 + 24}{4} = \\\\frac{26}{4} = 6.5\\n   \\\\]\\n\\n#### 【答え】\\n\\n点 \\\\( P \\\\) の座標は **\\\\( (5.5, 6.5) \\\\)**\\n\\n---\\n\\n### 【グラフの描画】\\n\\n点 A、点 B、内分点 P をグラフで示してみましょう。\\n\\n#### 【Pythonコードによるグラフ描画】\\n\\n![コードブロック 4](/content/image_folder/output_4.png)\\n#### 【グラフの説明】\\n\\n- 赤い点が点 A、青い点が点 B、緑の点が内分点 P です。\\n- 点 P は線分 AB を 3:1 に内分しています。\\n\\n---\\n\\n## 5. 2点間の距離と中点\\n\\n### 2点間の距離\\n\\n点 \\\\( A(x_1, y_1) \\\\) と点 \\\\( B(x_2, y_2) \\\\) の間の距離 \\\\( d \\\\) は：\\n\\n\\\\[\\nd = \\\\sqrt{(x_2 - x_1)^2 + (y_2 - y_1)^2}\\n\\\\]\\n\\n### 【例題5】\\n\\n**点 A(3, 4) と点 B(-1, -2) の距離を求めよ。**\\n\\n#### 【解答】\\n\\n1. **公式に代入**\\n\\n   \\\\[\\n   d = \\\\sqrt{(-1 - 3)^2 + (-2 - 4)^2} = \\\\sqrt{(-4)^2 + (-6)^2} = \\\\sqrt{16 + 36} = \\\\sqrt{52}\\n   \\\\]\\n   \\n2. **平方根を簡単にする**\\n\\n   \\\\[\\n   \\\\sqrt{52} = \\\\sqrt{4 \\\\times 13} = 2\\\\sqrt{13}\\n   \\\\]\\n\\n#### 【答え】\\n\\n距離は **\\\\( 2\\\\sqrt{13} \\\\)**\\n\\n---\\n\\n### 線分の中点\\n\\n線分 \\\\( AB \\\\) の中点 \\\\( M \\\\) の座標は：\\n\\n\\\\[\\nM\\\\left( \\\\frac{x_1 + x_2}{2}, \\\\frac{y_1 + y_2}{2} \\\\right)\\n\\\\]\\n\\n### 【例題6】\\n\\n**点 A(-2, 5) と点 B(6, -3) の中点 \\\\( M \\\\) の座標を求めよ。**\\n\\n#### 【解答】\\n\\n1. **公式に代入**\\n\\n   \\\\[\\n   x = \\\\frac{-2 + 6}{2} = \\\\frac{4}{2} = 2\\n   \\\\]\\n   \\n   \\\\[\\n   y = \\\\frac{5 + (-3)}{2} = \\\\frac{2}{2} = 1\\n   \\\\]\\n\\n#### 【答え】\\n\\n中点 \\\\( M \\\\) の座標は **\\\\( (2, 1) \\\\)**\\n\\n---\\n\\n## 6. 発展的な問題\\n\\n### 【発展例題1】\\n\\n**放物線 \\\\( y = x^2 - 4x + 3 \\\\) 上に点 \\\\( P \\\\) があり、その接線が点 \\\\( Q(5, 4) \\\\) を通るとする。点 \\\\( P \\\\) の座標を求めよ。**\\n\\n#### 【解答】\\n\\n1. **放物線上の一般点を設定**\\n\\n   点 \\\\( P(t, t^2 - 4t + 3) \\\\)\\n\\n2. **放物線の接線の式を求める**\\n\\n   放物線の微分係数は：\\n\\n   \\\\[\\n   \\\\frac{dy}{dx} = 2x - 4\\n   \\\\]\\n\\n   よって、点 \\\\( P \\\\) における接線の傾きは：\\n\\n   \\\\[\\n   m = 2t - 4\\n   \\\\]\\n\\n3. **接線の方程式**\\n\\n   \\\\[\\n   y - (t^2 - 4t + 3) = m(x - t)\\n   \\\\]\\n\\n4. **接線が点 \\\\( Q(5, 4) \\\\) を通るので、代入**\\n\\n   \\\\[\\n   4 - (t^2 - 4t + 3) = (2t - 4)(5 - t)\\n   \\\\]\\n\\n5. **方程式を整理**\\n\\n   左辺：\\n\\n   \\\\[\\n   4 - t^2 + 4t - 3 = -t^2 + 4t + 1\\n   \\\\]\\n\\n   右辺：\\n\\n   \\\\[\\n   (2t - 4)(5 - t) = (2t - 4)(5 - t)\\n   \\\\]\\n\\n   展開すると、\\n\\n   \\\\[\\n   (2t - 4)(5 - t) = (2t \\\\times 5 - 2t \\\\times t - 4 \\\\times 5 + 4 \\\\times t) = (10t - 2t^2 - 20 + 4t) = (-2t^2 + 14t - 20)\\n   \\\\]\\n\\n6. **方程式をまとめる**\\n\\n   \\\\[\\n   -t^2 + 4t + 1 = -2t^2 + 14t - 20\\n   \\\\]\\n\\n   両辺を整理すると、\\n\\n   \\\\[\\n   -t^2 + 4t + 1 + 2t^2 - 14t + 20 = 0\\n   \\\\]\\n\\n   \\\\[\\n   ( -t^2 + 2t^2 ) + ( 4t - 14t ) + (1 + 20) = 0\\n   \\\\]\\n\\n   \\\\[\\n   t^2 - 10t + 21 = 0\\n   \\\\]\\n\\n7. **解を求める**\\n\\n   二次方程式 \\\\( t^2 - 10t + 21 = 0 \\\\)\\n\\n   解の公式より、\\n\\n   \\\\[\\n   t = \\\\frac{10 \\\\pm \\\\sqrt{(-10)^2 - 4 \\\\times 1 \\\\times 21}}{2} = \\\\frac{10 \\\\pm \\\\sqrt{100 - 84}}{2} = \\\\frac{10 \\\\pm \\\\sqrt{16}}{2}\\n   \\\\]\\n\\n   \\\\[\\n   t = \\\\frac{10 \\\\pm 4}{2}\\n   \\\\]\\n\\n   よって、\\n\\n   - \\\\( t = \\\\frac{10 + 4}{2} = 7 \\\\)\\n   - \\\\( t = \\\\frac{10 - 4}{2} = 3 \\\\)\\n\\n8. **点 \\\\( P \\\\) の座標を求める**\\n\\n   - \\\\( t = 7 \\\\) のとき：\\n\\n     \\\\[\\n     x = 7,\\\\ y = 7^2 - 4 \\\\times 7 + 3 = 49 - 28 + 3 = 24\\n     \\\\]\\n\\n     点 \\\\( P(7, 24) \\\\)\\n\\n   - \\\\( t = 3 \\\\) のとき：\\n\\n     \\\\[\\n     x = 3,\\\\ y = 3^2 - 4 \\\\times 3 + 3 = 9 - 12 + 3 = 0\\n     \\\\]\\n\\n     点 \\\\( P(3, 0) \\\\)\\n\\n#### 【答え】\\n\\n点 \\\\( P \\\\) の座標は **\\\\( (7, 24) \\\\) または \\\\( (3, 0) \\\\)**\\n\\n---\\n\\n### 【発展例題2】\\n\\n**楕円 \\\\( \\\\frac{x^2}{9} + \\\\frac{y^2}{4} = 1 \\\\) 上に点 \\\\( P \\\\) があり、直線 \\\\( y = x + k \\\\) が接線となるとする。定数 \\\\( k \\\\) の値を求めよ。**\\n\\n#### 【解答】\\n\\n1. **楕円の接線の方程式**\\n\\n   楕円 \\\\( \\\\frac{x^2}{a^2} + \\\\frac{y^2}{b^2} = 1 \\\\) の接線の方程式は：\\n\\n   \\\\[\\n   \\\\frac{xx_0}{a^2} + \\\\frac{yy_0}{b^2} = 1\\n   \\\\]\\n\\n2. **楕円上の点 \\\\( P(x_0, y_0) \\\\) は接点**\\n\\n3. **接線が \\\\( y = x + k \\\\) なので、接線の傾きは 1**\\n\\n4. **接線の傾きは**\\n\\n   接線の傾き \\\\( m \\\\) は、\\n\\n   \\\\[\\n   m = -\\\\frac{a^2 y_0}{b^2 x_0}\\n   \\\\]\\n\\n5. **値を代入**\\n\\n   - \\\\( a^2 = 9 \\\\)\\n   - \\\\( b^2 = 4 \\\\)\\n   - \\\\( m = 1 \\\\)\\n\\n   よって、\\n\\n   \\\\[\\n   1 = -\\\\frac{9 y_0}{4 x_0}\\n   \\\\]\\n\\n6. **これを整理すると**\\n\\n   \\\\[\\n   x_0 = -\\\\frac{9 y_0}{4}\\n   \\\\]\\n\\n7. **楕円の方程式に代入**\\n\\n   \\\\[\\n   \\\\frac{x_0^2}{9} + \\\\frac{y_0^2}{4} = 1\\n   \\\\]\\n\\n   これに \\\\( x_0 = -\\\\frac{9 y_0}{4} \\\\) を代入すると、\\n\\n   \\\\[\\n   \\\\frac{\\\\left( -\\\\frac{9 y_0}{4} \\\\right)^2}{9} + \\\\frac{y_0^2}{4} = 1\\n   \\\\]\\n\\n8. **計算を進める**\\n\\n   \\\\[\\n   \\\\frac{\\\\frac{81 y_0^2}{16}}{9} + \\\\frac{y_0^2}{4} = 1\\n   \\\\]\\n   \\n   \\\\[\\n   \\\\frac{9 y_0^2}{16} + \\\\frac{y_0^2}{4} = 1\\n   \\\\]\\n\\n   両辺を \\\\( 16 \\\\) 倍すると、\\n\\n   \\\\[\\n   9 y_0^2 + 4 y_0^2 = 16\\n   \\\\]\\n\\n   \\\\[\\n   13 y_0^2 = 16\\n   \\\\]\\n\\n9. **\\\\( y_0 \\\\) を求める**\\n\\n   \\\\[\\n   y_0^2 = \\\\frac{16}{13}\\n   \\\\]\\n\\n   \\\\[\\n   y_0 = \\\\pm \\\\frac{4}{\\\\sqrt{13}}\\n   \\\\]\\n\\n10. **\\\\( x_0 \\\\) を求める**\\n\\n    \\\\[\\n    x_0 = -\\\\frac{9 y_0}{4} = -\\\\frac{9}{4} \\\\times \\\\left( \\\\pm \\\\frac{4}{\\\\sqrt{13}} \\\\right) = -9 \\\\times \\\\left( \\\\pm \\\\frac{1}{\\\\sqrt{13}} \\\\right)\\n    \\\\]\\n\\n    \\\\[\\n    x_0 = \\\\mp \\\\frac{9}{\\\\sqrt{13}}\\n    \\\\]\\n\\n11. **接線の式における \\\\( k \\\\) を求める**\\n\\n    接線は \\\\( y = x + k \\\\) で、点 \\\\( (x_0, y_0) \\\\) を通るので、\\n\\n    \\\\[\\n    y_0 = x_0 + k\\n    \\\\]\\n\\n    よって、\\n\\n    \\\\[\\n    k = y_0 - x_0\\n    \\\\]\\n\\n    代入すると、\\n\\n    - \\\\( y_0 = \\\\frac{4}{\\\\sqrt{13}} \\\\)、\\\\( x_0 = -\\\\frac{9}{\\\\sqrt{13}} \\\\) のとき：\\n\\n      \\\\[\\n      k = \\\\frac{4}{\\\\sqrt{13}} - \\\\left( -\\\\frac{9}{\\\\sqrt{13}} \\\\right ) = \\\\frac{13}{\\\\sqrt{13}} = \\\\sqrt{13}\\n      \\\\]\\n\\n    - \\\\( y_0 = -\\\\frac{4}{\\\\sqrt{13}} \\\\)、\\\\( x_0 = \\\\frac{9}{\\\\sqrt{13}} \\\\) のとき：\\n\\n      \\\\[\\n      k = -\\\\frac{4}{\\\\sqrt{13}} - \\\\frac{9}{\\\\sqrt{13}} = -\\\\frac{13}{\\\\sqrt{13}} = -\\\\sqrt{13}\\n      \\\\]\\n\\n#### 【答え】\\n\\n定数 \\\\( k \\\\) の値は **\\\\( \\\\sqrt{13} \\\\) または \\\\( -\\\\sqrt{13} \\\\)**\\n\\n### 【発展例題3】\\n\\n**問題：**\\n\\n平面上の点 \\\\( P(x, y) \\\\) が、2つの固定点 \\\\( A(1, 0) \\\\)、\\\\( B(-1, 0) \\\\) からの距離の比が一定であるとする。つまり、\\\\( \\\\frac{PA}{PB} = k \\\\) （\\\\( k \\\\) は正の定数）を満たす点 \\\\( P \\\\) の軌跡を求めよ。\\n\\n---\\n\\n**解答：**\\n\\n1. **距離の定義を用いる**\\n\\n   - \\\\( PA = \\\\sqrt{(x - 1)^2 + y^2} \\\\)\\n   - \\\\( PB = \\\\sqrt{(x + 1)^2 + y^2} \\\\)\\n\\n2. **距離の比の式を作る**\\n\\n   \\\\[\\n   \\\\frac{\\\\sqrt{(x - 1)^2 + y^2}}{\\\\sqrt{(x + 1)^2 + y^2}} = k\\n   \\\\]\\n\\n3. **両辺を2乗する**\\n\\n   \\\\[\\n   \\\\frac{(x - 1)^2 + y^2}{(x + 1)^2 + y^2} = k^2\\n   \\\\]\\n\\n4. **式を整理する**\\n\\n   \\\\[\\n   (x - 1)^2 + y^2 = k^2[(x + 1)^2 + y^2]\\n   \\\\]\\n\\n5. **展開して整理**\\n\\n   - 左辺：\\n     \\\\[\\n     x^2 - 2x + 1 + y^2\\n     \\\\]\\n   - 右辺：\\n     \\\\[\\n     k^2(x^2 + 2x + 1 + y^2)\\n     \\\\]\\n\\n6. **両辺の式をまとめる**\\n\\n   \\\\[\\n   x^2 - 2x + 1 + y^2 = k^2 x^2 + 2k^2 x + k^2 + k^2 y^2\\n   \\\\]\\n\\n7. **全ての項を左辺に移行**\\n\\n   \\\\[\\n   x^2 - 2x + 1 + y^2 - k^2 x^2 - 2k^2 x - k^2 - k^2 y^2 = 0\\n   \\\\]\\n\\n8. **同類項を整理**\\n\\n   \\\\[\\n   (1 - k^2)x^2 - (2 + 2k^2)x + (1 - k^2) + (1 - k^2)y^2 = 0\\n   \\\\]\\n\\n9. **場合分け**\\n\\n   - **\\\\( k = 1 \\\\) の場合：**\\n     - 式は \\\\( -4x + y^2 = 0 \\\\) となり、直線 \\\\( x = 0 \\\\) が解となる。\\n   - **\\\\( k \\\\ne 1 \\\\) の場合：**\\n     - \\\\( 1 - k^2 \\\\ne 0 \\\\) なので、両辺を \\\\( 1 - k^2 \\\\) で割る。\\n     - 方程式を円または双曲線の形に変形する。\\n\\n10. **平方完成**\\n\\n    \\\\[\\n    x^2 + y^2 - \\\\frac{2(1 + k^2)}{1 - k^2} x + \\\\frac{1 - k^2}{1 - k^2} = 0\\n    \\\\]\\n    \\\\[\\n    \\\\left( x - \\\\frac{1 + k^2}{1 - k^2} \\\\right)^2 + y^2 = \\\\left( \\\\frac{2k}{1 - k^2} \\\\right)^2\\n    \\\\]\\n\\n11. **結論**\\n\\n    - \\\\( P \\\\) の軌跡は、中心が \\\\( \\\\left( \\\\frac{1 + k^2}{1 - k^2},\\\\ 0 \\\\right) \\\\)、半径が \\\\( \\\\left| \\\\frac{2k}{1 - k^2} \\\\right| \\\\) の円となる。\\n\\n---\\n\\n**答え：**\\n\\n点 \\\\( P \\\\) の軌跡は、中心が \\\\( \\\\left( \\\\frac{1 + k^2}{1 - k^2},\\\\ 0 \\\\right) \\\\)、半径が \\\\( \\\\left| \\\\frac{2k}{1 - k^2} \\\\right| \\\\) の**円**である。ただし、\\\\( k \\\\ne 1 \\\\) で \\\\( k > 0 \\\\)。\\n\\n---\\n\\n**解説：**\\n\\nこの問題は、距離の比が一定である点の軌跡を求める問題であり、解析幾何学の知識を応用しています。結果として、円や双曲線といった二次曲線が現れます。\\n\\n---\\n\\n### 【発展例題4】\\n\\n**問題：**\\n\\n複素平面上で、複素数 \\\\( z \\\\) が次の条件を満たすとき、\\\\( z \\\\) の軌跡を求めよ。\\n\\n\\\\[\\n|z - 2i| = 2\\n\\\\]\\n\\n---\\n\\n**解答：**\\n\\n1. **複素数の絶対値の意味**\\n\\n   - \\\\( |z - 2i| \\\\) は、複素数 \\\\( z \\\\) と \\\\( 0 + 2i \\\\) の距離を表す。\\n\\n2. **軌跡の解釈**\\n\\n   - 点 \\\\( (0, 2) \\\\) を中心とし、半径 2 の円周上の点 \\\\( z \\\\) を表す。\\n\\n3. **結論**\\n\\n   - \\\\( z \\\\) の軌跡は、中心 \\\\( (0, 2) \\\\)、半径 2 の**円**である。\\n\\n---\\n\\n**答え：**\\n\\n\\\\( z \\\\) の軌跡は、中心 \\\\( (0, 2) \\\\)、半径 2 の**円**である。\\n\\n---\\n\\n**解説：**\\n\\n複素数平面上での絶対値は、点と点の距離に対応します。この問題では、円の方程式を複素数の形で表現しています。\\n\\n---\\n\\n### 【発展例題5】\\n\\n**問題：**\\n\\n点 \\\\( P(x, y) \\\\) が次の条件を満たすとき、\\\\( P \\\\) が動く領域を図示せよ。\\n\\n\\\\[\\n|x| + |y| \\\\leq 2\\n\\\\]\\n\\n---\\n\\n**解答：**\\n\\n1. **絶対値を含む不等式の解釈**\\n\\n   - \\\\( |x| + |y| = 2 \\\\) は、原点を中心とする正方形（菱形）の境界線。\\n   - \\\\( |x| + |y| \\\\leq 2 \\\\) は、その正方形の内部および境界線。\\n\\n2. **領域の形状**\\n\\n   - 頂点が \\\\( (2, 0) \\\\)、\\\\( (0, 2) \\\\)、\\\\( (-2, 0) \\\\)、\\\\( (0, -2) \\\\) の菱形。\\n\\n3. **図示**\\n\\n   - 座標平面上に菱形を描き、その内部を塗りつぶす。\\n\\n---\\n\\n**答え：**\\n\\n\\\\( P \\\\) が動く領域は、原点を中心とし、頂点が \\\\( (2, 0) \\\\)、\\\\( (0, 2) \\\\)、\\\\( (-2, 0) \\\\)、\\\\( (0, -2) \\\\) にある**菱形の内部とその境界線**である。\\n\\n---\\n\\n**解説：**\\n\\n絶対値を含む不等式は、図形の領域を表す際によく用いられます。この問題では、絶対値の和が一定以下という条件から、特定の領域を求めています。\\n\\n---\\n\\n### 【発展例題6】\\n\\n**問題：**\\n\\n空間内の点 \\\\( (x, y, z) \\\\) が次の条件を満たすとき、その点の軌跡を求めよ。\\n\\n\\\\[\\nx^2 + y^2 = z^2\\n\\\\]\\n\\n---\\n\\n**解答：**\\n\\n1. **条件の解釈**\\n\\n   - \\\\( x^2 + y^2 = z^2 \\\\) は、空間内でどのような図形を表すか考える。\\n\\n2. **円錐の方程式**\\n\\n   - これは原点を頂点とする**円錐面**の方程式である。\\n\\n3. **結論**\\n\\n   - 点 \\\\( (x, y, z) \\\\) の軌跡は、原点を頂点とし、軸が \\\\( z \\\\) 軸である円錐面。\\n\\n---\\n\\n**答え：**\\n\\n点の軌跡は、原点を頂点とし、軸が \\\\( z \\\\) 軸である**円錐面**である。\\n\\n---\\n\\n**解説：**\\n\\n空間座標における二次方程式は、円錐面や球面などの立体的な図形を表します。この問題では、円錐面の理解が求められます。\\n\\n---\\n\\n## まとめ\\n\\nこれらの発展的な問題は、「**軌跡と領域**」の概念を他の数学の分野と結びつけています。具体的には、以下のような分野との関連があります。\\n\\n- **解析幾何学**：二次曲線・二次曲面の性質。\\n- **複素数平面**：複素数の絶対値と図形の関係。\\n- **不等式**：絶対値を含む不等式による領域の定義。\\n- **空間図形**：三次元空間における図形の方程式。\\n\\nこれらの問題に取り組むことで、軌跡と領域の理解が深まるだけでなく、他の数学的概念とのつながりも強化されます。\\n\\nぜひ、これらの問題に挑戦してみてください！\\n\\n---\\n\\n## 7. 学習のポイントと進め方\\n\\n- **基本原理の理解**\\n\\n  公式や方程式を暗記するだけでなく、**どうしてそうなるのか**を理解しましょう。\\n\\n- **グラフの描画**\\n\\n  実際に手でグラフを描いたり、Pythonなどを使って描いてみると、視覚的に理解できます。\\n\\n- **問題演習**\\n\\n  いろいろな問題を解いて、**応用力**を身につけましょう。\\n\\n- **疑問点の解消**\\n\\n  わからないことはそのままにせず、**先生や友達に質問**して解決しましょう。\\n\\n---\\n\\n## 8. 学習スケジュールの提案\\n\\n1. **週1回の復習**\\n\\n   習った内容を週に一度は復習して、理解を深めましょう。\\n\\n2. **毎日の問題演習**\\n\\n   毎日少しずつ問題を解いて、実力を積み上げましょう。\\n\\n3. **月1回の模擬テスト**\\n\\n   自分の理解度を確認するために、模擬テストを受けてみましょう。\\n\\n---\\n\\n## 9. おすすめの学習リソース\\n\\n- **高校数学の教科書（数学II・B）**\\n- **図形と方程式に特化した問題集や参考書**\\n- **オンライン学習サイトや動画解説**\\n\\n---\\n\\n## まとめ\\n\\n「図形と方程式」は、数学の基礎を築くとても大切な分野です。この単元をしっかり学ぶことで、数学的な考え方や問題を解く力がぐんと伸びます。コツコツと勉強を続けて、自分の力にしていきましょう！\\n\\n---'"
            ]
          },
          "execution_count": 46,
          "metadata": {},
          "output_type": "execute_result"
        }
      ],
      "source": [
        "markdown_text"
      ]
    },
    {
      "cell_type": "code",
      "execution_count": null,
      "metadata": {
        "colab": {
          "base_uri": "https://localhost:8080/",
          "height": 221
        },
        "id": "K1HQD5ju4pOl",
        "outputId": "e3ef300e-8f8b-4f90-adab-cd1b7560dc75"
      },
      "outputs": [
        {
          "ename": "NameError",
          "evalue": "name 'markdown' is not defined",
          "output_type": "error",
          "traceback": [
            "\u001b[0;31m---------------------------------------------------------------------------\u001b[0m",
            "\u001b[0;31mNameError\u001b[0m                                 Traceback (most recent call last)",
            "\u001b[0;32m<ipython-input-1-306a629c497d>\u001b[0m in \u001b[0;36m<cell line: 4>\u001b[0;34m()\u001b[0m\n\u001b[1;32m      2\u001b[0m \u001b[0;34m\u001b[0m\u001b[0m\n\u001b[1;32m      3\u001b[0m \u001b[0;31m# MarkdownテキストをHTMLに変換\u001b[0m\u001b[0;34m\u001b[0m\u001b[0;34m\u001b[0m\u001b[0m\n\u001b[0;32m----> 4\u001b[0;31m \u001b[0mhtml_content\u001b[0m \u001b[0;34m=\u001b[0m \u001b[0mmarkdown\u001b[0m\u001b[0;34m.\u001b[0m\u001b[0mmarkdown\u001b[0m\u001b[0;34m(\u001b[0m\u001b[0mmarkdown_text\u001b[0m\u001b[0;34m)\u001b[0m\u001b[0;34m\u001b[0m\u001b[0;34m\u001b[0m\u001b[0m\n\u001b[0m\u001b[1;32m      5\u001b[0m \u001b[0;34m\u001b[0m\u001b[0m\n\u001b[1;32m      6\u001b[0m \u001b[0;31m# Jupyter Notebookで表示\u001b[0m\u001b[0;34m\u001b[0m\u001b[0;34m\u001b[0m\u001b[0m\n",
            "\u001b[0;31mNameError\u001b[0m: name 'markdown' is not defined"
          ]
        }
      ],
      "source": [
        "from IPython.display import display, HTML\n",
        "\n",
        "# MarkdownテキストをHTMLに変換\n",
        "html_content = markdown.markdown(markdown_text)\n",
        "\n",
        "# Jupyter Notebookで表示\n",
        "display(HTML(html_content))"
      ]
    },
    {
      "cell_type": "markdown",
      "metadata": {
        "id": "X2vnp8ydWir1"
      },
      "source": [
        "# 音声データ生成の試作\n",
        "別途存在するpythonコードによって原稿はセグメントごとに分割されており、この分割データに対して音声スクリプトの試作を行った。\n",
        "\n",
        "また、試作の結果全ての原稿をGemini-1,5-proに入力することによって前後の文脈補完を行ったスクリプトの作成を行う。"
      ]
    },
    {
      "cell_type": "code",
      "execution_count": null,
      "metadata": {
        "id": "7wqR-RORWhym"
      },
      "outputs": [],
      "source": [
        "audio_prompt = \"\"\"\n",
        "与えられた教材の一部からそれに沿った音声読み上げスクリプトの作成を行ってください。\n",
        "この時、教材の範囲を逸脱するような内容を加えるず、読み上げスクリプト本文のみを出力してください・\n",
        "また、解答の説明をするときは各ステップにおいて論理関係を補充するようにしてください。\n",
        "問題のセクションの時は、問題だけ読み上げ解説はしないでください\n",
        "数学的表現はひらがなで読み方を記載し、アルファベットはひらがなに変換してください。\n",
        "例えば\n",
        "y=x^2の時はワイ　イコール　エックス　2乗\n",
        "x+y=2x+yの時はエックス　プラス　ワイ　イコール　2 かける　エックス　プラス　ワイ\n",
        "点A の時はてん エー\n",
        "で記載してください。\n",
        "教材:{sentence}\n",
        "\"\"\""
      ]
    },
    {
      "cell_type": "code",
      "execution_count": null,
      "metadata": {
        "id": "wec3SkCsXlMa"
      },
      "outputs": [],
      "source": [
        "import glob\n",
        "path_list = glob.glob('/content/drive/MyDrive/FairEdu/図形と方程式/lesson_mds_v3/*.md')"
      ]
    },
    {
      "cell_type": "code",
      "execution_count": null,
      "metadata": {
        "colab": {
          "base_uri": "https://localhost:8080/"
        },
        "id": "GSncouP5Hjpu",
        "outputId": "55fd1162-c4cd-4085-f810-745f46e19401"
      },
      "outputs": [
        {
          "data": {
            "text/plain": [
              "['/content/drive/MyDrive/FairEdu/図形と方程式/lesson_mds_v3/segment_6.md',\n",
              " '/content/drive/MyDrive/FairEdu/図形と方程式/lesson_mds_v3/segment_9.md',\n",
              " '/content/drive/MyDrive/FairEdu/図形と方程式/lesson_mds_v3/segment_28.md',\n",
              " '/content/drive/MyDrive/FairEdu/図形と方程式/lesson_mds_v3/segment_16.md',\n",
              " '/content/drive/MyDrive/FairEdu/図形と方程式/lesson_mds_v3/segment_14.md',\n",
              " '/content/drive/MyDrive/FairEdu/図形と方程式/lesson_mds_v3/segment_21.md',\n",
              " '/content/drive/MyDrive/FairEdu/図形と方程式/lesson_mds_v3/segment_8.md',\n",
              " '/content/drive/MyDrive/FairEdu/図形と方程式/lesson_mds_v3/segment_27.md',\n",
              " '/content/drive/MyDrive/FairEdu/図形と方程式/lesson_mds_v3/segment_13.md',\n",
              " '/content/drive/MyDrive/FairEdu/図形と方程式/lesson_mds_v3/segment_23.md',\n",
              " '/content/drive/MyDrive/FairEdu/図形と方程式/lesson_mds_v3/segment_22.md',\n",
              " '/content/drive/MyDrive/FairEdu/図形と方程式/lesson_mds_v3/segment_0.md',\n",
              " '/content/drive/MyDrive/FairEdu/図形と方程式/lesson_mds_v3/segment_18.md',\n",
              " '/content/drive/MyDrive/FairEdu/図形と方程式/lesson_mds_v3/segment_17.md',\n",
              " '/content/drive/MyDrive/FairEdu/図形と方程式/lesson_mds_v3/segment_1.md',\n",
              " '/content/drive/MyDrive/FairEdu/図形と方程式/lesson_mds_v3/segment_26.md',\n",
              " '/content/drive/MyDrive/FairEdu/図形と方程式/lesson_mds_v3/segment_25.md',\n",
              " '/content/drive/MyDrive/FairEdu/図形と方程式/lesson_mds_v3/segment_3.md',\n",
              " '/content/drive/MyDrive/FairEdu/図形と方程式/lesson_mds_v3/segment_12.md',\n",
              " '/content/drive/MyDrive/FairEdu/図形と方程式/lesson_mds_v3/segment_24.md',\n",
              " '/content/drive/MyDrive/FairEdu/図形と方程式/lesson_mds_v3/segment_20.md',\n",
              " '/content/drive/MyDrive/FairEdu/図形と方程式/lesson_mds_v3/segment_4.md',\n",
              " '/content/drive/MyDrive/FairEdu/図形と方程式/lesson_mds_v3/segment_19.md',\n",
              " '/content/drive/MyDrive/FairEdu/図形と方程式/lesson_mds_v3/segment_10.md',\n",
              " '/content/drive/MyDrive/FairEdu/図形と方程式/lesson_mds_v3/segment_11.md',\n",
              " '/content/drive/MyDrive/FairEdu/図形と方程式/lesson_mds_v3/segment_15.md',\n",
              " '/content/drive/MyDrive/FairEdu/図形と方程式/lesson_mds_v3/segment_29.md',\n",
              " '/content/drive/MyDrive/FairEdu/図形と方程式/lesson_mds_v3/segment_5.md',\n",
              " '/content/drive/MyDrive/FairEdu/図形と方程式/lesson_mds_v3/segment_30.md',\n",
              " '/content/drive/MyDrive/FairEdu/図形と方程式/lesson_mds_v3/segment_7.md',\n",
              " '/content/drive/MyDrive/FairEdu/図形と方程式/lesson_mds_v3/segment_2.md']"
            ]
          },
          "execution_count": 11,
          "metadata": {},
          "output_type": "execute_result"
        }
      ],
      "source": [
        "path_list"
      ]
    },
    {
      "cell_type": "code",
      "execution_count": null,
      "metadata": {
        "colab": {
          "base_uri": "https://localhost:8080/",
          "height": 641
        },
        "collapsed": true,
        "id": "p2hu6MMaYZw-",
        "outputId": "fd94ecbb-d94d-46cf-df92-b00eca1beda7"
      },
      "outputs": [
        {
          "name": "stdout",
          "output_type": "stream",
          "text": [
            "### 【グラフの描画】\n",
            "\n",
            "点 A、点 B、内分点 P をグラフで示してみましょう。\n",
            "\n",
            "#### 【グラフの説明】\n",
            "\n",
            "![内分点のグラフ](image_folder/output_4.png)\n",
            "\n",
            "- 赤い点が点 A、青い点が点 B、緑の点が内分点 P です。\n",
            "- 点 P は線分 AB を 3:1 に内分しています。\n",
            "\n",
            "与えられた教材の一部からそれに沿った音声読み上げスクリプトの作成を行ってください。\n",
            "この時、教材の範囲を逸脱するような内容を加えるず、読み上げスクリプト本文のみを出力してください・\n",
            "また、解答の説明をするときは各ステップにおいて論理関係を補充するようにしてください。\n",
            "問題のセクションの時は、問題だけ読み上げ解説はしないでください\n",
            "数学的表現はひらがなで読み方を記載し、アルファベットはひらがなに変換してください。\n",
            "例えば\n",
            "y=x^2の時はワイ　イコール　エックス　2乗\n",
            "x+y=2x+yの時はエックス　プラス　ワイ　イコール　2 かける　エックス　プラス　ワイ\n",
            "点A の時はてん エー\n",
            "で記載してください。\n",
            "教材:### 【グラフの描画】\n",
            "\n",
            "点 A、点 B、内分点 P をグラフで示してみましょう。\n",
            "\n",
            "#### 【グラフの説明】\n",
            "\n",
            "![内分点のグラフ](image_folder/output_4.png)\n",
            "\n",
            "- 赤い点が点 A、青い点が点 B、緑の点が内分点 P です。\n",
            "- 点 P は線分 AB を 3:1 に内分しています。\n",
            "\n"
          ]
        },
        {
          "data": {
            "application/vnd.google.colaboratory.intrinsic+json": {
              "type": "string"
            },
            "text/plain": [
              "'てん エー、てん ビー、ないぶんてん ピ をグラフで示してみましょう。\\n\\nてん エー はあかい点で、てん ビー はあおい点です。そして、ないぶんてん ピ はみどりの点で示されています。\\n\\nないぶんてん ピ はせんぶん エー ビー を 3:1 にないぶんしています。'"
            ]
          },
          "execution_count": 14,
          "metadata": {},
          "output_type": "execute_result"
        }
      ],
      "source": [
        "with open(path_list[3], 'r') as md_file:\n",
        "  lesson_sentence = md_file.read()\n",
        "print(lesson_sentence)\n",
        "print(audio_prompt.format(sentence=lesson_sentence))\n",
        "llm_response(audio_prompt.format(sentence=lesson_sentence))"
      ]
    },
    {
      "cell_type": "code",
      "execution_count": null,
      "metadata": {
        "colab": {
          "base_uri": "https://localhost:8080/"
        },
        "id": "t7O_GnjwX3IA",
        "outputId": "9f9001a4-9af5-4982-ff08-c327811cdc69"
      },
      "outputs": [
        {
          "name": "stderr",
          "output_type": "stream",
          "text": [
            "100%|██████████| 31/31 [01:41<00:00,  3.29s/it]\n"
          ]
        }
      ],
      "source": [
        "from tqdm import tqdm\n",
        "for path in tqdm(path_list):\n",
        "  name = path.split('/')[-1]\n",
        "  with open(path, 'r') as md_file:\n",
        "    lesson_sentence = md_file.read()\n",
        "  with open(\"/content/drive/MyDrive/FairEdu/図形と方程式/audio_texts_v3/\"+name, 'w') as audio_file:\n",
        "    audio_file.write(llm_response(audio_prompt.format(sentence=lesson_sentence)))"
      ]
    },
    {
      "cell_type": "code",
      "execution_count": null,
      "metadata": {
        "id": "vAuPAn3SeiA0"
      },
      "outputs": [],
      "source": []
    }
  ],
  "metadata": {
    "colab": {
      "collapsed_sections": [
        "WQm-uFGWdGKN",
        "v5MwZ-blH_0j",
        "mLhCv3Q9QHLy",
        "hySq-qT8YtZu",
        "1pY3qgq4XOQe",
        "_GU40FEHKIbv",
        "qGHcF-JLKNtL",
        "rKEG7GyIIGkq",
        "Ge5CpLlfiaLp",
        "Bu3TRoAu4zIv",
        "WVK46dMC42O0",
        "qLjDrbEjVQ83",
        "X2vnp8ydWir1"
      ],
      "provenance": []
    },
    "kernelspec": {
      "display_name": "Python 3",
      "name": "python3"
    },
    "language_info": {
      "name": "python"
    }
  },
  "nbformat": 4,
  "nbformat_minor": 0
}
